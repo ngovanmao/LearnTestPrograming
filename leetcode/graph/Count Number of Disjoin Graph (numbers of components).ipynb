{
 "cells": [
  {
   "cell_type": "code",
   "execution_count": 17,
   "metadata": {},
   "outputs": [],
   "source": [
    "from collections import defaultdict\n",
    "class Solution(object):\n",
    "    def countNumberComponents(self, n, edges):\n",
    "        graph = {i:[] for i in range(n)}\n",
    "        \n",
    "        for e in edges:\n",
    "            graph[e[0]].append(e[1])\n",
    "            graph[e[1]].append(e[0])\n",
    "        print(graph)\n",
    "        \n",
    "        count = 0\n",
    "        visited = defaultdict(bool)\n",
    "        \n",
    "        def dfs(graph, i, visited):            \n",
    "            visited[i] = True\n",
    "            for neighbor in graph[i]:                \n",
    "                if visited[neighbor] == False:\n",
    "                    dfs(graph, neighbor, visited)\n",
    "                \n",
    "        for i in range(n):\n",
    "            if visited[i] == False:\n",
    "                count += 1\n",
    "            dfs(graph, i, visited)                   \n",
    "                \n",
    "        return count\n",
    "    "
   ]
  },
  {
   "cell_type": "code",
   "execution_count": 18,
   "metadata": {},
   "outputs": [
    {
     "name": "stdout",
     "output_type": "stream",
     "text": [
      "{0: [1, 2], 1: [0, 2], 2: [1, 0], 3: [4], 4: [3]}\n",
      "Successful this testoutput=2, expect=2\n"
     ]
    }
   ],
   "source": [
    "def test_count(n, edges, expect):\n",
    "    obj = Solution()\n",
    "    output = obj.countNumberComponents(n, edges)    \n",
    "    assert output == expect, \"Failed this test, expect={}, output={}\".format(expect, output)\n",
    "    print(\"Successful this testoutput={}, expect={}\".format(output, expect))\n",
    "test_count(5, [[0,1],[1,2],[2,0],[3,4]], 2)"
   ]
  },
  {
   "cell_type": "code",
   "execution_count": 19,
   "metadata": {},
   "outputs": [
    {
     "name": "stdout",
     "output_type": "stream",
     "text": [
      "{0: [1, 3], 1: [0, 2, 3], 2: [1], 3: [1, 0], 4: [5, 6], 5: [4, 7], 6: [4, 7], 7: [5, 6]}\n",
      "Successful this testoutput=2, expect=2\n"
     ]
    }
   ],
   "source": [
    "edge2 = [[0,1],[1,2],[1,3],[0,3],[4,5],[4,6],[5,7],[7,6]]\n",
    "n2 = 8\n",
    "expect2 = 2\n",
    "test_count(n2, edge2, expect2)"
   ]
  },
  {
   "cell_type": "code",
   "execution_count": 20,
   "metadata": {},
   "outputs": [
    {
     "name": "stdout",
     "output_type": "stream",
     "text": [
      "{0: [0, 0], 1: [1, 1], 2: [2, 2]}\n",
      "Successful this testoutput=3, expect=3\n"
     ]
    }
   ],
   "source": [
    "edge3 = [[0,0],[1,1],[2,2]]\n",
    "n3=3\n",
    "expect3=3\n",
    "test_count(n3, edge3, expect3)"
   ]
  },
  {
   "cell_type": "code",
   "execution_count": null,
   "metadata": {},
   "outputs": [],
   "source": []
  },
  {
   "cell_type": "code",
   "execution_count": null,
   "metadata": {},
   "outputs": [],
   "source": []
  }
 ],
 "metadata": {
  "kernelspec": {
   "display_name": "Python 3",
   "language": "python",
   "name": "python3"
  },
  "language_info": {
   "codemirror_mode": {
    "name": "ipython",
    "version": 3
   },
   "file_extension": ".py",
   "mimetype": "text/x-python",
   "name": "python",
   "nbconvert_exporter": "python",
   "pygments_lexer": "ipython3",
   "version": "3.7.6"
  }
 },
 "nbformat": 4,
 "nbformat_minor": 4
}
