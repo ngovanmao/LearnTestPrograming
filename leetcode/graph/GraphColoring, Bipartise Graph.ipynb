{
 "cells": [
  {
   "cell_type": "code",
   "execution_count": 17,
   "metadata": {},
   "outputs": [],
   "source": [
    "class Solution(object):\n",
    "    def bipartiseGraph(self, n, edges):\n",
    "        graph = {i:[] for i in range(n)}\n",
    "        for e in edges:\n",
    "            graph[e[0]].append(e[1])\n",
    "            graph[e[1]].append(e[0])\n",
    "        print(graph)\n",
    "        visited = [0] * n # group 1, group -1\n",
    "        def dfs(graph, i, visited, group):\n",
    "            visited[i] = group\n",
    "            for neigh in graph[i]:\n",
    "                if visited[neigh] == group:\n",
    "                    return False\n",
    "                if visited[neigh] == 0 and not dfs(graph, neigh, visited, -group):\n",
    "                    return False\n",
    "            return True\n",
    "                            \n",
    "        for i in range(n):\n",
    "            if visited[i] == 0 and not dfs(graph, i, visited, 1):\n",
    "                return False\n",
    "        return True"
   ]
  },
  {
   "cell_type": "code",
   "execution_count": 25,
   "metadata": {},
   "outputs": [
    {
     "name": "stdout",
     "output_type": "stream",
     "text": [
      "{0: [1], 1: [0, 2, 3], 2: [1, 4], 3: [1, 4], 4: [2, 3]}\n",
      "Success test for this  bipartised graph [[0, 1], [1, 2], [2, 4], [1, 3], [3, 4]]\n"
     ]
    }
   ],
   "source": [
    "def test_bipartiseGraph(n, edges, expect):\n",
    "    obj = Solution()\n",
    "    output = obj.bipartiseGraph(n, edges)\n",
    "    assert output == expect, \"Failed Test for this {} bipartised graph {}\".format(\"\" if expect else \"NON\", edges)\n",
    "    print(\"Success test for this {} bipartised graph {}\".format(\"\" if expect else \"NON\", edges))\n",
    "test_bipartiseGraph(5, [[0,1],[1,2],[2,4],[1,3],[3,4]], True)"
   ]
  },
  {
   "cell_type": "code",
   "execution_count": 26,
   "metadata": {},
   "outputs": [
    {
     "name": "stdout",
     "output_type": "stream",
     "text": [
      "{0: [1], 1: [0, 2, 3], 2: [1], 3: [1]}\n",
      "Success test for this  bipartised graph [[0, 1], [1, 2], [1, 3]]\n"
     ]
    }
   ],
   "source": [
    "test_bipartiseGraph(4, [[0,1],[1,2],[1,3]], True)"
   ]
  },
  {
   "cell_type": "code",
   "execution_count": 27,
   "metadata": {},
   "outputs": [
    {
     "name": "stdout",
     "output_type": "stream",
     "text": [
      "{0: [1], 1: [0, 2, 3], 2: [1, 3], 3: [1, 2]}\n",
      "Success test for this NON bipartised graph [[0, 1], [1, 2], [1, 3], [2, 3]]\n"
     ]
    }
   ],
   "source": [
    "test_bipartiseGraph(4, [[0,1],[1,2],[1,3], [2,3]],False)"
   ]
  },
  {
   "cell_type": "code",
   "execution_count": 28,
   "metadata": {},
   "outputs": [
    {
     "name": "stdout",
     "output_type": "stream",
     "text": [
      "{0: [1], 1: [0, 2, 3], 2: [1, 4], 3: [1, 5], 4: [2, 5], 5: [4, 3]}\n",
      "Success test for this NON bipartised graph [[0, 1], [1, 2], [1, 3], [2, 4], [4, 5], [3, 5]]\n"
     ]
    }
   ],
   "source": [
    "test_bipartiseGraph(6, [[0,1],[1,2],[1,3], [2,4],[4,5],[3,5]],False)"
   ]
  },
  {
   "cell_type": "code",
   "execution_count": null,
   "metadata": {},
   "outputs": [],
   "source": []
  }
 ],
 "metadata": {
  "kernelspec": {
   "display_name": "Python 3",
   "language": "python",
   "name": "python3"
  },
  "language_info": {
   "codemirror_mode": {
    "name": "ipython",
    "version": 3
   },
   "file_extension": ".py",
   "mimetype": "text/x-python",
   "name": "python",
   "nbconvert_exporter": "python",
   "pygments_lexer": "ipython3",
   "version": "3.7.6"
  }
 },
 "nbformat": 4,
 "nbformat_minor": 4
}
