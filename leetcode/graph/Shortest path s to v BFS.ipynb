{
 "cells": [
  {
   "cell_type": "code",
   "execution_count": 13,
   "metadata": {},
   "outputs": [],
   "source": [
    "from collections import defaultdict\n",
    "class Solution(object):\n",
    "    def shortestPath(self, n, edges, s, d):\n",
    "        # build graph:\n",
    "        Adj = defaultdict(list)        \n",
    "        for edge in edges:\n",
    "            Adj[edge[0]].append(edge[1])\n",
    "            Adj[edge[1]].append(edge[0])\n",
    "        print(Adj)\n",
    "        \n",
    "        level = {s:0}\n",
    "        parent = {s:None}\n",
    "        i = 1\n",
    "        frontier = [s]\n",
    "        while frontier:\n",
    "            next_frontier = []\n",
    "            for u in frontier:\n",
    "                for v in Adj[u]:\n",
    "                    if v not in level:\n",
    "                        level[v] = i\n",
    "                        parent[v] = u\n",
    "                        next_frontier.append(v)\n",
    "            frontier = next_frontier\n",
    "            i += 1        \n",
    "        # shortest path from s to d:\n",
    "        ans = []\n",
    "        u = d\n",
    "        while u != s:\n",
    "            ans.append(u)\n",
    "            u = parent[u]\n",
    "        ans.append(s)        \n",
    "        return ans[::-1]"
   ]
  },
  {
   "cell_type": "code",
   "execution_count": 14,
   "metadata": {},
   "outputs": [
    {
     "name": "stdout",
     "output_type": "stream",
     "text": [
      "defaultdict(<class 'list'>, {0: [1, 2], 1: [0, 3], 2: [0], 3: [1, 4, 5], 4: [3, 5, 6], 5: [3, 4, 6, 7], 6: [4, 5, 7], 7: [5, 6]})\n",
      "OK shortest path from 1 to 7 is [1, 3, 5, 7]\n"
     ]
    }
   ],
   "source": [
    "def test_shortest_path(n, edges, s, d, expect):\n",
    "    obj = Solution()\n",
    "    output = obj.shortestPath(n, edges, s, d)\n",
    "    assert output == expect, \"Failed test\"\n",
    "    print(\"OK shortest path from {} to {} is {}\".format(s, d, output))\n",
    "test_shortest_path(8, [[0,1],[0,2],[1,3],[3,4],[3,5],[4,5],[4,6],[5,6],[5,7],[6,7]], 1, 7, [1,3,5,7])"
   ]
  },
  {
   "cell_type": "code",
   "execution_count": 15,
   "metadata": {},
   "outputs": [
    {
     "data": {
      "text/plain": [
       "4"
      ]
     },
     "execution_count": 15,
     "metadata": {},
     "output_type": "execute_result"
    }
   ],
   "source": [
    "8//2"
   ]
  },
  {
   "cell_type": "code",
   "execution_count": 16,
   "metadata": {},
   "outputs": [
    {
     "data": {
      "text/plain": [
       "4.0"
      ]
     },
     "execution_count": 16,
     "metadata": {},
     "output_type": "execute_result"
    }
   ],
   "source": [
    "8/2"
   ]
  },
  {
   "cell_type": "code",
   "execution_count": null,
   "metadata": {},
   "outputs": [],
   "source": []
  }
 ],
 "metadata": {
  "kernelspec": {
   "display_name": "Python 3",
   "language": "python",
   "name": "python3"
  },
  "language_info": {
   "codemirror_mode": {
    "name": "ipython",
    "version": 3
   },
   "file_extension": ".py",
   "mimetype": "text/x-python",
   "name": "python",
   "nbconvert_exporter": "python",
   "pygments_lexer": "ipython3",
   "version": "3.6.9"
  }
 },
 "nbformat": 4,
 "nbformat_minor": 4
}
