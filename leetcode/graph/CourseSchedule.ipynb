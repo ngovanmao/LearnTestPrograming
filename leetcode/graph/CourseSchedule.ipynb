{
 "cells": [
  {
   "cell_type": "code",
   "execution_count": 8,
   "metadata": {},
   "outputs": [],
   "source": [
    "from collections import defaultdict\n",
    "class Solution(object):\n",
    "    def courseSchedule(self, n, edges):\n",
    "        \"\"\"\n",
    "        output: bool\n",
    "        \"\"\"\n",
    "        graph = {i:[] for i in range(n)}\n",
    "        for e in edges:\n",
    "            graph[e[1]].append(e[0])\n",
    "        print(graph)\n",
    "        \n",
    "        visited = defaultdict(int)\n",
    "        def dfs(graph, i, visited):\n",
    "            if visited[i] == -1: # cycle of visiting\n",
    "                return False\n",
    "            if visited[i] == 1:\n",
    "                return True\n",
    "            \n",
    "            visited[i] = -1\n",
    "            for neighbor in graph[i]:\n",
    "                if not dfs(graph, neighbor, visited):\n",
    "                    return False\n",
    "            visited[i] = 1\n",
    "            return True\n",
    "        \n",
    "        for i in range(n):\n",
    "            if not dfs(graph, i, visited):\n",
    "                return False\n",
    "        return True"
   ]
  },
  {
   "cell_type": "code",
   "execution_count": 9,
   "metadata": {},
   "outputs": [
    {
     "name": "stdout",
     "output_type": "stream",
     "text": [
      "{0: [], 1: [0], 2: [1, 3], 3: [4], 4: [2]}\n",
      "Success schedule classes [[0, 1], [1, 2], [3, 2], [4, 3], [2, 4]]\n"
     ]
    }
   ],
   "source": [
    "def test_schedule(n, edges, expect):\n",
    "    obj = Solution()\n",
    "    output = obj.courseSchedule(n, edges)\n",
    "    assert output == expect, \"Failed to schedule classes {}\".format(edges)\n",
    "    print(\"Success schedule classes {}\".format(edges))\n",
    "test_schedule(5, [[0,1],[1,2],[3,2],[4,3],[2,4]], False)"
   ]
  },
  {
   "cell_type": "code",
   "execution_count": null,
   "metadata": {},
   "outputs": [],
   "source": []
  }
 ],
 "metadata": {
  "kernelspec": {
   "display_name": "Python 3",
   "language": "python",
   "name": "python3"
  },
  "language_info": {
   "codemirror_mode": {
    "name": "ipython",
    "version": 3
   },
   "file_extension": ".py",
   "mimetype": "text/x-python",
   "name": "python",
   "nbconvert_exporter": "python",
   "pygments_lexer": "ipython3",
   "version": "3.7.6"
  }
 },
 "nbformat": 4,
 "nbformat_minor": 4
}
