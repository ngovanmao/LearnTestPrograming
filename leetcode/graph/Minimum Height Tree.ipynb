{
 "cells": [
  {
   "cell_type": "code",
   "execution_count": 20,
   "metadata": {},
   "outputs": [],
   "source": [
    "class Solution(object):\n",
    "    def minimumHeightTree(self, n, edges):\n",
    "        \"\"\"\n",
    "        Return: int i, which is a node/vertex that makes a tree with minimum height\n",
    "        \"\"\"\n",
    "        graph = {i:[] for i in range(n)}\n",
    "        for e in edges:\n",
    "            graph[e[0]].append(e[1])\n",
    "            graph[e[1]].append(e[0])\n",
    "        print(graph)\n",
    "        \n",
    "        leaves = []\n",
    "        for i in range(n):\n",
    "            if len(graph[i]) == 1:\n",
    "                leaves.append(i)\n",
    "        count = 0\n",
    "        while n > 2:\n",
    "            n -= len(leaves)\n",
    "            count += 1\n",
    "            new_leaves = []\n",
    "            # remove leaves from graph\n",
    "            for l in leaves:\n",
    "                parent = graph[l][0]\n",
    "                graph[parent].remove(l)\n",
    "                del graph[l]\n",
    "                if len(graph[parent]) == 1:\n",
    "                    new_leaves.append(parent)\n",
    "            leaves = new_leaves\n",
    "        \n",
    "        return list(graph.keys())[0], count"
   ]
  },
  {
   "cell_type": "code",
   "execution_count": null,
   "metadata": {},
   "outputs": [],
   "source": []
  },
  {
   "cell_type": "code",
   "execution_count": 22,
   "metadata": {},
   "outputs": [
    {
     "name": "stdout",
     "output_type": "stream",
     "text": [
      "{0: [1], 1: [0, 2, 3], 2: [1], 3: [1]}\n",
      "Successful test case, edges=[[0, 1], [1, 2], [1, 3]], get minHeight node=1, height=1\n"
     ]
    }
   ],
   "source": [
    "def test_minimum_height_tree(n, edges, expect):\n",
    "    obj = Solution()\n",
    "    output, height = obj.minimumHeightTree(n, edges)\n",
    "    assert output == expect, \"Failed test case, expect:{}, output:{}\".format(expect, output)\n",
    "    print(\"Successful test case, edges={}, get minHeight node={}, height={}\".format(edges, expect, height))\n",
    "test_minimum_height_tree(4, [[0,1],[1,2],[1,3]], 1)"
   ]
  },
  {
   "cell_type": "code",
   "execution_count": 24,
   "metadata": {},
   "outputs": [
    {
     "name": "stdout",
     "output_type": "stream",
     "text": [
      "{0: [1], 1: [0, 2, 4], 2: [1, 3], 3: [2, 5], 4: [1], 5: [3]}\n",
      "Successful test case, edges=[[0, 1], [1, 2], [1, 4], [2, 3], [3, 5]], get minHeight node=2, height=2\n"
     ]
    }
   ],
   "source": [
    "test_minimum_height_tree(6, [[0,1],[1,2],[1,4],[2,3],[3,5]], 2)"
   ]
  },
  {
   "cell_type": "code",
   "execution_count": null,
   "metadata": {},
   "outputs": [],
   "source": []
  }
 ],
 "metadata": {
  "kernelspec": {
   "display_name": "Python 3",
   "language": "python",
   "name": "python3"
  },
  "language_info": {
   "codemirror_mode": {
    "name": "ipython",
    "version": 3
   },
   "file_extension": ".py",
   "mimetype": "text/x-python",
   "name": "python",
   "nbconvert_exporter": "python",
   "pygments_lexer": "ipython3",
   "version": "3.7.6"
  }
 },
 "nbformat": 4,
 "nbformat_minor": 4
}
