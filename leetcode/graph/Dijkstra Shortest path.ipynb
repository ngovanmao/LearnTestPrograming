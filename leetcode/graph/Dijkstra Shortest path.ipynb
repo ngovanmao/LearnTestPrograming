{
 "cells": [
  {
   "cell_type": "code",
   "execution_count": 9,
   "metadata": {},
   "outputs": [],
   "source": [
    "from collections import defaultdict\n",
    "class Graph(object):\n",
    "    def __init__(self):\n",
    "        self.nodes = set()\n",
    "        self.edges = defaultdict(list)\n",
    "        self.distances = {}\n",
    "    \n",
    "    def add_node(self, value):\n",
    "        self.nodes.add(value)\n",
    "    \n",
    "    def add_edge(self, from_node, to_node, distance):\n",
    "        self.edges[from_node].append(to_node)\n",
    "        #self.edges[to_node].append(from_node)\n",
    "        self.distances[from_node,to_node] = distance\n",
    "        \n",
    "\n",
    "def dijstra(graph, s):\n",
    "    \"\"\"\n",
    "    initialize: \n",
    "        d(distance from s to node)\n",
    "        path (from s to any node)\n",
    "        nodes: all nodes\n",
    "    we go through all node and select the min node within the available nodes\n",
    "    and pick the smallest distance to s the spread from that node.\n",
    "    \"\"\"\n",
    "    d = {s:0}\n",
    "    path = {}    \n",
    "    nodes = set(graph.nodes)\n",
    "    while nodes:\n",
    "        # find min_node \n",
    "        min_node = None\n",
    "        for node in nodes:\n",
    "            if node in d:\n",
    "                if min_node is None:\n",
    "                    min_node = node                \n",
    "                elif d[min_node] > d[node]:\n",
    "                    min_node = node\n",
    "        \n",
    "        if min_node is None:\n",
    "            break\n",
    "        nodes.remove(min_node)        \n",
    "        current_weight = d[min_node]\n",
    "        \n",
    "        for neighbor in graph.edges[min_node]:\n",
    "            weight = current_weight + graph.distances[min_node, neighbor]\n",
    "            if neighbor not in d or weight < d[neighbor]:\n",
    "                d[neighbor] = weight\n",
    "                path[neighbor] = min_node\n",
    "    return d, path\n",
    "                \n",
    "    \n",
    "    "
   ]
  },
  {
   "cell_type": "code",
   "execution_count": 10,
   "metadata": {},
   "outputs": [],
   "source": [
    "g = Graph()\n",
    "g.add_node('A')\n",
    "g.add_node('B')\n",
    "g.add_node('C')\n",
    "g.add_node('D')\n",
    "g.add_node('E')\n",
    "g.add_edge('A','B', 10)\n",
    "g.add_edge('B','D',2)\n",
    "g.add_edge('A','C',3)\n",
    "g.add_edge('B','D',2)\n",
    "g.add_edge('B','C',1)\n",
    "g.add_edge('C','B',4)\n",
    "g.add_edge('C','D',8)\n",
    "g.add_edge('D','E',7)\n",
    "g.add_edge('E','D',9)\n"
   ]
  },
  {
   "cell_type": "code",
   "execution_count": 11,
   "metadata": {},
   "outputs": [
    {
     "name": "stdout",
     "output_type": "stream",
     "text": [
      "{'A': 0, 'B': 7, 'C': 3, 'D': 9, 'E': 16}\n",
      "{'B': 'C', 'C': 'A', 'D': 'B', 'E': 'D'}\n"
     ]
    }
   ],
   "source": [
    "distance, path = dijstra(g, 'A')\n",
    "print(distance)\n",
    "print(path)"
   ]
  },
  {
   "cell_type": "code",
   "execution_count": null,
   "metadata": {},
   "outputs": [],
   "source": []
  }
 ],
 "metadata": {
  "kernelspec": {
   "display_name": "Python 3",
   "language": "python",
   "name": "python3"
  },
  "language_info": {
   "codemirror_mode": {
    "name": "ipython",
    "version": 3
   },
   "file_extension": ".py",
   "mimetype": "text/x-python",
   "name": "python",
   "nbconvert_exporter": "python",
   "pygments_lexer": "ipython3",
   "version": "3.6.9"
  }
 },
 "nbformat": 4,
 "nbformat_minor": 4
}
