{
 "cells": [
  {
   "cell_type": "markdown",
   "metadata": {},
   "source": [
    "https://www.geeksforgeeks.org/check-given-graph-tree/"
   ]
  },
  {
   "cell_type": "code",
   "execution_count": 33,
   "metadata": {},
   "outputs": [],
   "source": [
    "from collections import defaultdict\n",
    "class Solution(object):\n",
    "    def checkGraphIsTree(self, n, edges):\n",
    "        graph = {i:[] for i in range(n)}\n",
    "        for e in edges:\n",
    "            graph[e[0]].append(e[1])\n",
    "            graph[e[1]].append(e[0])\n",
    "        print(graph)\n",
    "        visited = defaultdict(int)\n",
    "        def dfs(graph, i, parent, visited):\n",
    "            if visited[i] == -1:\n",
    "                return False\n",
    "            if visited[i] == 1:\n",
    "                return True\n",
    "            visited[i] = -1\n",
    "            for neighbor in graph[i]:                \n",
    "                if neighbor != parent and not dfs(graph, neighbor, i, visited):\n",
    "                    return False\n",
    "            visited[i] = 1\n",
    "            return True                    \n",
    "        for i in range(n):\n",
    "            if not dfs(graph, i, i, visited):\n",
    "                return False        \n",
    "        return True"
   ]
  },
  {
   "cell_type": "code",
   "execution_count": 55,
   "metadata": {},
   "outputs": [],
   "source": [
    "from collections import defaultdict, deque\n",
    "class SolutionBFS(object):\n",
    "    def checkGraphIsTree(self, n, edges):\n",
    "        graph = {i:[] for i in range(n)}\n",
    "        for e in edges:\n",
    "            graph[e[0]].append(e[1])\n",
    "            graph[e[1]].append(e[0])\n",
    "        print(graph)\n",
    "        visited = defaultdict(bool)\n",
    "        q = deque()\n",
    "        q.append((0,0)) # node, parent\n",
    "        while q:\n",
    "            v, parent = q.popleft()\n",
    "            if visited[v]:\n",
    "                return False\n",
    "            visited[v] = True\n",
    "            for neighbor in graph[v]:\n",
    "                if neighbor != v and not visited[neighbor]:\n",
    "                    q.append((neighbor, v))\n",
    "        \n",
    "        for v in visited:\n",
    "            if not visited[v]:\n",
    "                return False\n",
    "        return True"
   ]
  },
  {
   "cell_type": "code",
   "execution_count": 56,
   "metadata": {},
   "outputs": [
    {
     "name": "stdout",
     "output_type": "stream",
     "text": [
      "{0: [1], 1: [0, 2], 2: [1, 3, 4], 3: [2, 4], 4: [3, 2]}\n",
      "The test is successful, graph is not a tree, [[0, 1], [1, 2], [2, 3], [3, 4], [4, 2]]\n"
     ]
    }
   ],
   "source": [
    "def test_check_graph_is_tree(n, edges, expect):\n",
    "    obj = SolutionBFS()\n",
    "    output = obj.checkGraphIsTree(n, edges)\n",
    "    assert output == expect, \"The graph is not a tree, {}\".format(edges)\n",
    "    print(\"The test is successful, graph is {} a tree, {}\".format(\"\" if output else \"not\", edges))\n",
    "\n",
    "test_check_graph_is_tree(5, [[0,1],[1,2],[2,3],[3,4],[4,2]], False)"
   ]
  },
  {
   "cell_type": "code",
   "execution_count": 57,
   "metadata": {},
   "outputs": [
    {
     "name": "stdout",
     "output_type": "stream",
     "text": [
      "{0: [1], 1: [0, 2], 2: [1, 3], 3: [2, 4], 4: [3]}\n",
      "The test is successful, graph is  a tree, [[0, 1], [1, 2], [2, 3], [3, 4]]\n"
     ]
    }
   ],
   "source": [
    "test_check_graph_is_tree(5, [[0,1],[1,2],[2,3],[3,4]], True)"
   ]
  },
  {
   "cell_type": "code",
   "execution_count": 58,
   "metadata": {},
   "outputs": [
    {
     "name": "stdout",
     "output_type": "stream",
     "text": [
      "{0: [1, 2, 3], 1: [0], 2: [0], 3: [0, 4], 4: [3]}\n",
      "The test is successful, graph is  a tree, [[0, 1], [0, 2], [0, 3], [3, 4]]\n"
     ]
    }
   ],
   "source": [
    "test_check_graph_is_tree(5, [[0,1],[0,2],[0,3],[3,4]], True)"
   ]
  },
  {
   "cell_type": "code",
   "execution_count": 54,
   "metadata": {},
   "outputs": [
    {
     "name": "stdout",
     "output_type": "stream",
     "text": [
      "{0: [1], 1: [0, 2], 2: [1], 3: [4], 4: [3]}\n",
      "all=defaultdict(<class 'bool'>, {0: True, 1: True, 2: True})\n",
      "The test is successful, graph is  a tree, [[0, 1], [1, 2], [3, 4]]\n"
     ]
    }
   ],
   "source": [
    "test_check_graph_is_tree(5, [[0,1],[1,2],[3,4]], True)"
   ]
  },
  {
   "cell_type": "code",
   "execution_count": null,
   "metadata": {},
   "outputs": [],
   "source": []
  }
 ],
 "metadata": {
  "kernelspec": {
   "display_name": "Python 3",
   "language": "python",
   "name": "python3"
  },
  "language_info": {
   "codemirror_mode": {
    "name": "ipython",
    "version": 3
   },
   "file_extension": ".py",
   "mimetype": "text/x-python",
   "name": "python",
   "nbconvert_exporter": "python",
   "pygments_lexer": "ipython3",
   "version": "3.7.6"
  }
 },
 "nbformat": 4,
 "nbformat_minor": 4
}
