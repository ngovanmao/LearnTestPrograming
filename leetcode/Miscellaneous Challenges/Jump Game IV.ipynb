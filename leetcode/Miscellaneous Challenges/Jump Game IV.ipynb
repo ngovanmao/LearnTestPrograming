{
 "cells": [
  {
   "cell_type": "markdown",
   "metadata": {},
   "source": [
    "<center style=\"background-color:yellow\"> column description </center>\n",
    "```\n",
    "Given an array of integers arr, you are initially positioned at the first index of the array.\n",
    "\n",
    "In one step you can jump from index i to index:\n",
    "\n",
    "i + 1 where: i + 1 < arr.length.\n",
    "i - 1 where: i - 1 >= 0.\n",
    "j where: arr[i] == arr[j] and i != j.\n",
    "Return the minimum number of steps to reach the last index of the array.\n",
    "\n",
    "Notice that you can not jump outside of the array at any time.\n",
    "\n",
    " \n",
    "\n",
    "Example 1:\n",
    "\n",
    "Input: arr = [100,-23,-23,404,100,23,23,23,3,404]\n",
    "Output: 3\n",
    "Explanation: You need three jumps from index 0 --> 4 --> 3 --> 9. Note that index 9 is the last index of the array.\n",
    "Example 2:\n",
    "\n",
    "Input: arr = [7]\n",
    "Output: 0\n",
    "Explanation: Start index is the last index. You don't need to jump.\n",
    "Example 3:\n",
    "\n",
    "Input: arr = [7,6,9,6,9,6,9,7]\n",
    "Output: 1\n",
    "Explanation: You can jump directly from index 0 to index 7 which is last index of the array.\n",
    "Example 4:\n",
    "\n",
    "Input: arr = [6,1,9]\n",
    "Output: 2\n",
    "Example 5:\n",
    "\n",
    "Input: arr = [11,22,7,7,7,7,7,7,7,22,13]\n",
    "Output: 3\n",
    " \n",
    "\n",
    "Constraints:\n",
    "\n",
    "1 <= arr.length <= 5 * 10^4\n",
    "-10^8 <= arr[i] <= 10^8\n",
    "   Hide Hint #1  \n",
    "Build a graph of n nodes where nodes are the indices of the array and edges for node i are nodes i+1, i-1, j where arr[i] == arr[j].\n",
    "   Hide Hint #2  \n",
    "Start bfs from node 0 and keep distance, answer is the distance when you reach onode n-1.\n",
    "```"
   ]
  },
  {
   "cell_type": "code",
   "execution_count": null,
   "metadata": {},
   "outputs": [],
   "source": []
  },
  {
   "cell_type": "code",
   "execution_count": 50,
   "metadata": {},
   "outputs": [],
   "source": [
    "from collections import defaultdict\n",
    "#from queue import Queue\n",
    "\n",
    "class Solution(object):\n",
    "    def minJumps(self, arr):\n",
    "        \"\"\"\n",
    "        :type arr: List[int]\n",
    "        :rtype: int\n",
    "        \"\"\"\n",
    "        n = len(arr)\n",
    "        if n <= 1:\n",
    "            return 0        \n",
    "        # build map_info between value and index\n",
    "        map_info = defaultdict(list)\n",
    "        for i in range(n):\n",
    "            map_info[arr[i]].append(i)\n",
    "            \n",
    "        step = 0\n",
    "        cur_index = 0\n",
    "        #q = Queue()\n",
    "        q = []\n",
    "        #q.put(cur_index)\n",
    "        q.insert(0, cur_index)\n",
    "        while len(q) > 0:\n",
    "            step += 1\n",
    "            size= len(q)\n",
    "            while size > 0:\n",
    "                cur_index = q.pop()\n",
    "                size -= 1\n",
    "                if (cur_index-1 >= 0 and arr[cur_index-1] in map_info):\n",
    "                    q.insert(0, cur_index-1)\n",
    "                if (cur_index+1 <= n-1 and arr[cur_index+1] in map_info):\n",
    "                    if cur_index+1 == n - 1:\n",
    "                        return step\n",
    "                    q.insert(0, cur_index+1)\n",
    "                if map_info[arr[cur_index]]:\n",
    "                    for i in map_info[arr[cur_index]]:\n",
    "                        if i != cur_index:\n",
    "                            if i == n-1:\n",
    "                                return step\n",
    "                            q.insert(0, i)\n",
    "                map_info.pop(arr[cur_index])\n",
    "        return step"
   ]
  },
  {
   "cell_type": "code",
   "execution_count": 51,
   "metadata": {},
   "outputs": [],
   "source": [
    "obj = Solution()"
   ]
  },
  {
   "cell_type": "code",
   "execution_count": 52,
   "metadata": {},
   "outputs": [],
   "source": [
    "arr1 = [100,-23,-23,404,100,23,23,23,3,404]\n",
    "res1 = 3\n",
    "\n",
    "assert obj.minJumps(arr1) == res1"
   ]
  },
  {
   "cell_type": "code",
   "execution_count": 53,
   "metadata": {},
   "outputs": [
    {
     "name": "stdout",
     "output_type": "stream",
     "text": [
      "3\n"
     ]
    }
   ],
   "source": [
    "arr2 = [11,22,7,7,7,7,7,7,7,22,13]\n",
    "res2= 3\n",
    "r2 = obj.minJumps(arr2)\n",
    "print(r2)\n",
    "assert r2 == res2"
   ]
  },
  {
   "cell_type": "code",
   "execution_count": 54,
   "metadata": {},
   "outputs": [
    {
     "name": "stdout",
     "output_type": "stream",
     "text": [
      "2\n"
     ]
    }
   ],
   "source": [
    "arr3 = [6,1,9]\n",
    "res3= 2\n",
    "r3 = obj.minJumps(arr3)\n",
    "print(r3)\n",
    "assert r3 == res3"
   ]
  },
  {
   "cell_type": "code",
   "execution_count": 55,
   "metadata": {},
   "outputs": [
    {
     "name": "stdout",
     "output_type": "stream",
     "text": [
      "1\n"
     ]
    }
   ],
   "source": [
    "arr4 = [7,6,9,6,9,6,9,7]\n",
    "res4= 1\n",
    "r4 = obj.minJumps(arr4)\n",
    "print(r4)\n",
    "assert r4 == res4"
   ]
  },
  {
   "cell_type": "code",
   "execution_count": 56,
   "metadata": {},
   "outputs": [
    {
     "name": "stdout",
     "output_type": "stream",
     "text": [
      "0\n"
     ]
    }
   ],
   "source": [
    "arr5 = [7]\n",
    "res5= 0\n",
    "r5 = obj.minJumps(arr5)\n",
    "print(r5)\n",
    "assert r5 == res5"
   ]
  },
  {
   "cell_type": "code",
   "execution_count": null,
   "metadata": {},
   "outputs": [],
   "source": []
  },
  {
   "cell_type": "code",
   "execution_count": null,
   "metadata": {},
   "outputs": [],
   "source": []
  }
 ],
 "metadata": {
  "kernelspec": {
   "display_name": "Python 3",
   "language": "python",
   "name": "python3"
  },
  "language_info": {
   "codemirror_mode": {
    "name": "ipython",
    "version": 3
   },
   "file_extension": ".py",
   "mimetype": "text/x-python",
   "name": "python",
   "nbconvert_exporter": "python",
   "pygments_lexer": "ipython3",
   "version": "3.7.6"
  }
 },
 "nbformat": 4,
 "nbformat_minor": 4
}
