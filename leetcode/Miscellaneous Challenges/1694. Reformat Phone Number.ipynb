{
 "cells": [
  {
   "cell_type": "markdown",
   "metadata": {},
   "source": [
    "You are given a phone number as a string number. number consists of digits, spaces ' ', and/or dashes '-'.\n",
    "\n",
    "You would like to reformat the phone number in a certain manner. Firstly, remove all spaces and dashes. Then, group the digits from left to right into blocks of length 3 until there are 4 or fewer digits. The final digits are then grouped as follows:\n",
    "\n",
    "2 digits: A single block of length 2.\n",
    "3 digits: A single block of length 3.\n",
    "4 digits: Two blocks of length 2 each.\n",
    "The blocks are then joined by dashes. Notice that the reformatting process should never produce any blocks of length 1 and produce at most two blocks of length 2.\n",
    "\n",
    "Return the phone number after formatting.\n",
    "\n",
    " \n",
    "\n",
    "Example 1:\n",
    "```\n",
    "Input: number = \"1-23-45 6\"\n",
    "Output: \"123-456\"\n",
    "Explanation: The digits are \"123456\".\n",
    "Step 1: There are more than 4 digits, so group the next 3 digits. The 1st block is \"123\".\n",
    "Step 2: There are 3 digits remaining, so put them in a single block of length 3. The 2nd block is \"456\".\n",
    "Joining the blocks gives \"123-456\".\n",
    "```\n",
    "Example 2:\n",
    "```\n",
    "Input: number = \"123 4-567\"\n",
    "Output: \"123-45-67\"\n",
    "Explanation: The digits are \"1234567\".\n",
    "Step 1: There are more than 4 digits, so group the next 3 digits. The 1st block is \"123\".\n",
    "Step 2: There are 4 digits left, so split them into two blocks of length 2. The blocks are \"45\" and \"67\".\n",
    "Joining the blocks gives \"123-45-67\".\n",
    "```\n",
    "Example 3:\n",
    "```\n",
    "Input: number = \"123 4-5678\"\n",
    "Output: \"123-456-78\"\n",
    "Explanation: The digits are \"12345678\".\n",
    "Step 1: The 1st block is \"123\".\n",
    "Step 2: The 2nd block is \"456\".\n",
    "Step 3: There are 2 digits left, so put them in a single block of length 2. The 3rd block is \"78\".\n",
    "Joining the blocks gives \"123-456-78\".\n",
    "```\n",
    "Example 4:\n",
    "```\n",
    "Input: number = \"12\"\n",
    "Output: \"12\"\n",
    "```\n",
    "Example 5:\n",
    "```\n",
    "Input: number = \"--17-5 229 35-39475 \"\n",
    "Output: \"175-229-353-94-75\"\n",
    "```\n",
    "\n",
    "Constraints:\n",
    "```\n",
    "2 <= number.length <= 100\n",
    "number consists of digits and the characters '-' and ' '.\n",
    "There are at least two digits in number.\n",
    "```"
   ]
  },
  {
   "cell_type": "code",
   "execution_count": 60,
   "metadata": {},
   "outputs": [],
   "source": [
    "number = \"1-23-45 6\"\n",
    "number = \"12\"\n",
    "number = \"123 4-5678\"\n",
    "number = \"--17-5 229 35-39475 \""
   ]
  },
  {
   "cell_type": "code",
   "execution_count": 61,
   "metadata": {},
   "outputs": [
    {
     "name": "stdout",
     "output_type": "stream",
     "text": [
      "valid_elem=['0', '1', '2', '3', '4', '5', '6', '7', '8', '9']\n",
      "['1', '7', '5', '2', '2', '9', '3', '5', '3', '9', '4', '7', '5']\n"
     ]
    }
   ],
   "source": [
    "num_only  = []\n",
    "valid_elem = [str(i) for i in range(10)]\n",
    "print(\"valid_elem={}\".format(valid_elem))\n",
    "\n",
    "for i in number:\n",
    "    if i in valid_elem:\n",
    "        num_only.append(i)\n",
    "print(num_only)\n"
   ]
  },
  {
   "cell_type": "code",
   "execution_count": 62,
   "metadata": {},
   "outputs": [
    {
     "name": "stdout",
     "output_type": "stream",
     "text": [
      "4\n",
      "2\n"
     ]
    }
   ],
   "source": [
    "divided = len(num_only) // 3\n",
    "print(divided)\n",
    "remainder = len(num_only) % 3\n",
    "print(chunk)"
   ]
  },
  {
   "cell_type": "code",
   "execution_count": 63,
   "metadata": {},
   "outputs": [],
   "source": [
    "if remainder == 1:\n",
    "    divided -= 1\n",
    "    remainder = 4\n"
   ]
  },
  {
   "cell_type": "code",
   "execution_count": 64,
   "metadata": {},
   "outputs": [
    {
     "name": "stdout",
     "output_type": "stream",
     "text": [
      "175-229-353-94-75\n"
     ]
    }
   ],
   "source": [
    "output = \"\"\n",
    "i = 0\n",
    "while i < len(num_only):\n",
    "    if divided > 0:\n",
    "        output += ''.join(num_only[i:i+3]) \n",
    "        if divided > 1 or remainder > 0:\n",
    "            output += '-'\n",
    "        i = i + 3\n",
    "        divided -= 1\n",
    "    else:\n",
    "        if remainder == 4:\n",
    "            output += '{}-{}'.format(''.join(num_only[i:i+2]), ''.join(num_only[i+2:i+4]))\n",
    "            i += 4\n",
    "        elif remainder == 2:\n",
    "            output += '{}'.format(''.join(num_only[i:i+2]))\n",
    "            i += 2\n",
    "        else:\n",
    "            print(\"error\")\n",
    "print(output)"
   ]
  },
  {
   "cell_type": "code",
   "execution_count": null,
   "metadata": {},
   "outputs": [],
   "source": []
  },
  {
   "cell_type": "code",
   "execution_count": null,
   "metadata": {},
   "outputs": [],
   "source": []
  }
 ],
 "metadata": {
  "kernelspec": {
   "display_name": "Python 3",
   "language": "python",
   "name": "python3"
  },
  "language_info": {
   "codemirror_mode": {
    "name": "ipython",
    "version": 3
   },
   "file_extension": ".py",
   "mimetype": "text/x-python",
   "name": "python",
   "nbconvert_exporter": "python",
   "pygments_lexer": "ipython3",
   "version": "3.7.6"
  }
 },
 "nbformat": 4,
 "nbformat_minor": 4
}
