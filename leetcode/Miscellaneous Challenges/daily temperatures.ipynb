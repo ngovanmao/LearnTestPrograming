{
 "cells": [
  {
   "cell_type": "code",
   "execution_count": 44,
   "metadata": {},
   "outputs": [
    {
     "name": "stdout",
     "output_type": "stream",
     "text": [
      "{73: [0, 7], 69: [4]}\n",
      "[(69, [4]), (73, [0, 7])]\n"
     ]
    }
   ],
   "source": [
    "from collections import OrderedDict\n",
    "d = {}\n",
    "d[73]=[0]\n",
    "d[69]=[4]\n",
    "d[73]=[0]\n",
    "d[73].append(7)\n",
    "print(d)\n",
    "dd = sorted(d.items())\n",
    "print(dd)"
   ]
  },
  {
   "cell_type": "code",
   "execution_count": 74,
   "metadata": {},
   "outputs": [
    {
     "name": "stdout",
     "output_type": "stream",
     "text": [
      "8\n",
      "7\n",
      "6\n",
      "5\n",
      "4\n",
      "3\n",
      "2\n",
      "1\n"
     ]
    }
   ],
   "source": [
    "for i in range(8, 0, -1):\n",
    "    print(i)"
   ]
  },
  {
   "cell_type": "code",
   "execution_count": 25,
   "metadata": {},
   "outputs": [],
   "source": [
    "\"\"\"\n",
    "Given a list of daily temperatures T, return a list such that,for each day in the input, tells you how many days you would \n",
    "have to wait until a warmer temperature. If there is no future day for which this is possible, put 0 instead.\n",
    "\n",
    "For example, given the list of temperatures T = [73, 74, 75, 71, 69, 72, 76, 73], your output should be [1, 1, 4, 2, 1, 1, 0, 0].\n",
    "\n",
    "Note: The length of temperatures will be in the range [1, 30000]. Each temperature will be an integer in the range [30, 100].\n",
    "\"\"\"\n",
    "# This solution is too slow\n",
    "class Solution(object):\n",
    "    def dailyTemperatures(self, T):\n",
    "        \"\"\"\n",
    "        :type T: List[int]\n",
    "        :rtype: List[int]\n",
    "        \"\"\"\n",
    "        output = []\n",
    "        for i, t in enumerate(T):\n",
    "            j = i + 1\n",
    "            while j < len(T):                \n",
    "                if T[j] > t:\n",
    "                    break\n",
    "                j+= 1\n",
    "            if j == len(T):\n",
    "                output.append(0)\n",
    "            else:\n",
    "                output.append(j-i)\n",
    "        return output"
   ]
  },
  {
   "cell_type": "code",
   "execution_count": 71,
   "metadata": {},
   "outputs": [],
   "source": [
    "# another bad solution\n",
    "class Solution(object):\n",
    "    def dailyTemperatures(self, T):\n",
    "        \"\"\"\n",
    "        :type T: List[int]\n",
    "        :rtype: List[int]\n",
    "        \"\"\"\n",
    "        output = []\n",
    "        data = {}\n",
    "        for i, t in enumerate(T):\n",
    "            if t in data.keys():\n",
    "                data[t].append(i)\n",
    "            else:\n",
    "                data[t] = [i]\n",
    "        sorted_data = sorted(data.items())\n",
    "        dictionary = []\n",
    "        for temp, days in sorted_data:\n",
    "            dictionary.append([temp, sorted(days)])\n",
    "        #print(dictionary)\n",
    "    \n",
    "        for i, t in enumerate(T):\n",
    "            next_days = []\n",
    "            for temp, days in dictionary:\n",
    "                if temp > t:\n",
    "                    for d in days:\n",
    "                        if d > i:\n",
    "                            next_days.append(d-i)\n",
    "                            break\n",
    "            if next_days:\n",
    "                output.append(min(next_days))\n",
    "            else:\n",
    "                output.append(0)\n",
    "        return output"
   ]
  },
  {
   "cell_type": "code",
   "execution_count": 77,
   "metadata": {},
   "outputs": [],
   "source": [
    "class Solution(object):\n",
    "    def dailyTemperatures(self, T):\n",
    "        \"\"\"\n",
    "        :type T: List[int]\n",
    "        :rtype: List[int]\n",
    "        \"\"\"\n",
    "        output = [0]\n",
    "        stack = []\n",
    "        l = len(T)\n",
    "        stack.append((l-1, T[-1]))\n",
    "        for i in reversed(range(l-1)):\n",
    "            found = False\n",
    "            while stack and not found:\n",
    "                last_day, last_t = stack[-1]\n",
    "                if last_t > T[i]:\n",
    "                    # last_day is a warmer day\n",
    "                    found = True\n",
    "                    stack.append((i, T[i]))\n",
    "                else:\n",
    "                    stack.pop()\n",
    "            if len(stack) == 0:\n",
    "                output.append(0)\n",
    "                stack.append((i, T[i]))\n",
    "            else:\n",
    "                output.append(last_day - i)\n",
    "            \n",
    "        return output[::-1]"
   ]
  },
  {
   "cell_type": "code",
   "execution_count": 90,
   "metadata": {},
   "outputs": [],
   "source": [
    "class Solution(object):\n",
    "    def dailyTemperatures(self, T):\n",
    "        \"\"\"\n",
    "        :type T: List[int]\n",
    "        :rtype: List[int]\n",
    "        \"\"\"\n",
    "        output = [0]*len(T)\n",
    "        stack = []               \n",
    "        for i in reversed(range(len(T))):            \n",
    "            # pop all lower temp days from stack\n",
    "            while len(stack) > 0 and T[i] >= stack[-1][1]:\n",
    "                stack.pop()\n",
    "            if len(stack) > 0 and T[i] < stack[-1][1]:\n",
    "                output[i] = stack[-1][0] - i\n",
    "            stack.append((i, T[i]))                \n",
    "            \n",
    "        return output"
   ]
  },
  {
   "cell_type": "code",
   "execution_count": 91,
   "metadata": {},
   "outputs": [
    {
     "name": "stdout",
     "output_type": "stream",
     "text": [
      "[1, 1, 4, 2, 1, 1, 0, 0]\n"
     ]
    }
   ],
   "source": [
    "obj = Solution()\n",
    "T = [73, 74, 75, 71, 69, 72, 76, 73]\n",
    "out=obj.dailyTemperatures(T)\n",
    "print(out)\n",
    "assert out == [1, 1, 4, 2, 1, 1, 0, 0]"
   ]
  },
  {
   "cell_type": "code",
   "execution_count": 12,
   "metadata": {},
   "outputs": [],
   "source": [
    "# Brackets, easy problem\n",
    "class Solution(object):\n",
    "    def isValid(self, s):\n",
    "        \"\"\"\n",
    "        :type s: str\n",
    "        :rtype: bool\n",
    "        \"\"\"\n",
    "        open_brackets = ['{','[','(']\n",
    "        close_brackets = ['}',']',')']\n",
    "        stack = []\n",
    "        for b in s:\n",
    "            if b in open_brackets:\n",
    "                stack.append(b)\n",
    "            if b in close_brackets:\n",
    "                #print(\"b={}, stack={}\".format(b, stack))\n",
    "                if len(stack) == 0:\n",
    "                    return False\n",
    "                last_b = stack.pop()\n",
    "                #print(\"b={}, last_b={}\".format(b, last_b))\n",
    "                if close_brackets[open_brackets.index(last_b)] != b:\n",
    "                    return False\n",
    "        return True"
   ]
  },
  {
   "cell_type": "code",
   "execution_count": 14,
   "metadata": {},
   "outputs": [],
   "source": [
    "obj = Solution()\n",
    "assert obj.isValid(\"()\") == True\n",
    "assert obj.isValid(\"(]\") == False"
   ]
  },
  {
   "cell_type": "code",
   "execution_count": 95,
   "metadata": {},
   "outputs": [],
   "source": [
    "class Solution1(object):\n",
    "    def findDiagonalOrder(self, matrix):\n",
    "        \"\"\"\n",
    "        :type matrix: List[List[int]]\n",
    "        :rtype: List[int]\n",
    "        \"\"\"\n",
    "        M = len(matrix)\n",
    "        N = len(matrix[0]) if M > 0 else 0\n",
    "        max_diagonal = min(M, N)\n",
    "        M1 = M - 1\n",
    "        N1 = N - 1\n",
    "        S = M1 + N1 # step from 0 to S\n",
    "        output = []\n",
    "        pre_step_id = [0,0]\n",
    "        for step in range(N):\n",
    "            a = 0\n",
    "            last_id = pre_step_id\n",
    "            while a < step + 1: \n",
    "                if a == 0:\n",
    "                    if step > 0:\n",
    "                        if step % 2 == 0:\n",
    "                            last_id[0] += 1\n",
    "                        else:\n",
    "                            last_id[1] += 1\n",
    "                else:\n",
    "                    if step % 2 == 0:\n",
    "                        last_id[0] -= 1\n",
    "                        last_id[1] += 1\n",
    "                    else:\n",
    "                        last_id[1] -= 1\n",
    "                        last_id[0] += 1\n",
    "                print(\"a={},step={}, last_id={}\".format(a, step, last_id))\n",
    "                output.append(matrix[last_id[0]][last_id[1]])                \n",
    "                a += 1\n",
    "            pre_step_id = last_id\n",
    "            \n",
    "        for step in reversed(range(N-1)):\n",
    "            a = 0\n",
    "            last_id = pre_step_id\n",
    "            while a < step + 1:\n",
    "                if a == 0:\n",
    "\n",
    "                    if step % 2 == 0:\n",
    "                        last_id[1] += 1\n",
    "                    else:\n",
    "                        last_id[0] += 1\n",
    "                else:\n",
    "                    if step % 2 == 0:\n",
    "                        last_id[0] -= 1\n",
    "                        last_id[1] += 1\n",
    "                    else:\n",
    "                        last_id[1] -= 1\n",
    "                        last_id[0] += 1\n",
    "                print(\"a={},step={}, last_id={}\".format(a, step, last_id))\n",
    "                output.append(matrix[last_id[0]][last_id[1]])                \n",
    "                a += 1\n",
    "            pre_step_id = last_id\n",
    "                \n",
    "        return output\n",
    "    \n",
    "            "
   ]
  },
  {
   "cell_type": "code",
   "execution_count": 60,
   "metadata": {},
   "outputs": [],
   "source": [
    "class Solution2(object):\n",
    "    def findDiagonalOrder(self, matrix):\n",
    "        \"\"\"\n",
    "        :type matrix: List[List[int]]\n",
    "        :rtype: List[int]\n",
    "        \"\"\"\n",
    "        M = len(matrix)\n",
    "        \n",
    "        N = len(matrix[0]) if M > 0 else 0\n",
    "        M1 = M - 1\n",
    "        N1 = N - 1\n",
    "        S = M1 + N1 # step from 0 to S\n",
    "        output = []\n",
    "        start_row = 0\n",
    "        start_col = 0\n",
    "        r = 0\n",
    "        c = 0\n",
    "        hit_r_up, hit_r_low = False, False\n",
    "        hit_c_up, hit_c_low = False, False\n",
    "        signR = 1\n",
    "        signC = 1\n",
    "        while True:\n",
    "            if hit_r_up and hit_c_up:\n",
    "                break\n",
    "            if hit_r_low and hit_c_low:\n",
    "                c+= 1\n",
    "                signC = -1\n",
    "                signR = 1\n",
    "                hit_c_low, hit_c_up = False, False\n",
    "                hit_r_low, hit_r_up = False, False\n",
    "            if hit_r_low:\n",
    "                c += 1\n",
    "                signC = -1\n",
    "                signR = 1\n",
    "                hit_c_low, hit_c_up = False, False\n",
    "                hit_r_low, hit_r_up = False, False\n",
    "            if hit_r_up:\n",
    "                c += 1\n",
    "                signC = -1 \n",
    "                signR = 1\n",
    "                hit_c_low, hit_c_up = False, False\n",
    "                hit_r_low, hit_r_up = False, False\n",
    "            if hit_c_low:\n",
    "                r += 1\n",
    "                signR = -1\n",
    "                signC = 1\n",
    "                hit_c_low, hit_c_up = False, False\n",
    "                hit_r_low, hit_r_up = False, False\n",
    "            if hit_c_up:\n",
    "                r += 1\n",
    "                signR = -1\n",
    "                signC = 1\n",
    "                hit_c_low, hit_c_up = False, False\n",
    "                hit_r_low, hit_r_up = False, False\n",
    "            first = True\n",
    "            print(\"OOUTER: r={},c={}, signR={}, signC={}, output={}\".format(r,c,signR, signC, output))\n",
    "            while not (hit_r_low or hit_r_up or hit_c_low or hit_r_up):                \n",
    "                print(\"r={},c={}, signR={}, signC={}, output={}\".format(r,c,signR, signC, output))\n",
    "                if first:\n",
    "                    first = False\n",
    "                else:\n",
    "                    r = r + signR * 1\n",
    "                    c = c + signC * 1\n",
    "                output.append(matrix[r][c])                                \n",
    "                if r == 0:\n",
    "                    hit_r_low = True\n",
    "                if c == 0:\n",
    "                    hit_c_low = True\n",
    "                if r == M1:\n",
    "                    hit_r_up = True\n",
    "                if c == N1:\n",
    "                    hit_c_up = True\n",
    "                \n",
    "                \n",
    "        return output             \n",
    "                    \n",
    "                "
   ]
  },
  {
   "cell_type": "code",
   "execution_count": 83,
   "metadata": {},
   "outputs": [],
   "source": [
    "class Solution(object):\n",
    "    def findDiagonalOrder(self, matrix):\n",
    "        \"\"\"\n",
    "        :type matrix: List[List[int]]\n",
    "        :rtype: List[int]\n",
    "        \"\"\"\n",
    "        M = len(matrix)\n",
    "        N = len(matrix[0]) if M > 0 else 0\n",
    "        max_diagonal = min(M, N)\n",
    "        M1 = M - 1\n",
    "        N1 = N - 1\n",
    "        S = M1 + N1 # step from 0 to S\n",
    "        print(M, N, S)\n",
    "        output = []\n",
    "        r,c = 0, 0\n",
    "        for step in range(M+N): # M + N -1\n",
    "            i = 0\n",
    "            while i < step + 1 and i < max_diagonal: \n",
    "                print(\"step={}, i={}, last_id={}\".format(step, i, (r,c)))\n",
    "                if i == 0:\n",
    "                    if step > 0:\n",
    "                        if step > (S)/2:\n",
    "                            if step % 2 == 0:\n",
    "                                #print(\"step={}, i={}, last_id={}\".format(step, i, (r,c)))\n",
    "                                if c + 1 > N1: \n",
    "                                    break\n",
    "                                c += 1\n",
    "                            else:\n",
    "                                if r + 1 > M1:\n",
    "                                    break\n",
    "                                r += 1\n",
    "                        else:\n",
    "                            if step % 2 == 0:\n",
    "                                if r + 1 > M1:\n",
    "                                    break\n",
    "                                r += 1\n",
    "                            else:\n",
    "                                if c + 1 > N1: \n",
    "                                    break\n",
    "                                c += 1\n",
    "                else:\n",
    "                    if step % 2 != 0:\n",
    "                        if c -1 < 0 or r+ 1 > M1:\n",
    "                            break\n",
    "                        c -= 1\n",
    "                        r += 1\n",
    "                    else:\n",
    "                        if r - 1 < 0 or c+ 1 > N1:\n",
    "                            break\n",
    "                        r -= 1\n",
    "                        c += 1\n",
    "                print(\"i={},step={}, r={},c={}\".format(i, step, r,c))\n",
    "                output.append(matrix[r][c])                \n",
    "                i += 1\n",
    "            \n",
    "        return output\n",
    "    \n",
    "            "
   ]
  },
  {
   "cell_type": "code",
   "execution_count": 86,
   "metadata": {},
   "outputs": [
    {
     "name": "stdout",
     "output_type": "stream",
     "text": [
      "M=2, N=4, a=[[1, 2, 3, 4], [5, 6, 7, 8]]\n"
     ]
    }
   ],
   "source": [
    "a1 = []\n",
    "a2 = [[1]]\n",
    "a3 = [[1,2],[3,4]]\n",
    "a4 = [[1,2,3],[4,5,6],[7,8,9]]\n",
    "a5 = [[1,2,3,4],[5,6,7,8]]\n",
    "a6 = [[1,2,3,4,5],[6,7,8, 9,10],[11,12,13,14,15]]\n",
    "a7 = [[2,3]]\n",
    "a8= [[7],[9],[6]]\n",
    "a9 = [[1,2,3,4,5],[6,7,8,9,10],[11,12,13,14,15],[16,17,18,19,20],[21,22,23,24,25]]\n",
    "M = len(a)        \n",
    "N = len(a[0]) if M > 0 else 0\n",
    "print(\"M={}, N={}, a={}\".format(M, N, a))"
   ]
  },
  {
   "cell_type": "code",
   "execution_count": 89,
   "metadata": {},
   "outputs": [
    {
     "name": "stdout",
     "output_type": "stream",
     "text": [
      "0 0 -2\n"
     ]
    }
   ],
   "source": [
    "obj = Solution()\n",
    "res1= obj.findDiagonalOrder(a1)\n",
    "assert res1 == []"
   ]
  },
  {
   "cell_type": "code",
   "execution_count": 90,
   "metadata": {},
   "outputs": [
    {
     "name": "stdout",
     "output_type": "stream",
     "text": [
      "1 1 0\n",
      "step=0, i=0, last_id=(0, 0)\n",
      "i=0,step=0, r=0,c=0\n",
      "step=1, i=0, last_id=(0, 0)\n"
     ]
    }
   ],
   "source": [
    "res2= obj.findDiagonalOrder(a2)\n",
    "assert res2 == [1]"
   ]
  },
  {
   "cell_type": "code",
   "execution_count": null,
   "metadata": {},
   "outputs": [],
   "source": [
    "res2= obj.findDiagonalOrder(a2)\n",
    "assert res2 == [1]"
   ]
  },
  {
   "cell_type": "code",
   "execution_count": 106,
   "metadata": {},
   "outputs": [],
   "source": []
  },
  {
   "cell_type": "code",
   "execution_count": 125,
   "metadata": {},
   "outputs": [],
   "source": [
    "class Solution(object):\n",
    "    def numberIslands(self, grid):\n",
    "        row = len(grid)\n",
    "        col = len(grid[0])\n",
    "        count = 0\n",
    "        \n",
    "        def BFS(i, j):\n",
    "            if i < 0 or i >=row or j <0 or j >= col or grid[i][j] == \"0\":\n",
    "                return\n",
    "            grid[i][j] = \"0\"\n",
    "            print(\"grid={}\".format(grid[i][j]))\n",
    "            BFS(i-1, j) # left\n",
    "            BFS(i+1, j) # right\n",
    "            BFS(i, j-1) # above\n",
    "            BFS(i, j+1) # below\n",
    "            \n",
    "        for i in range(row):\n",
    "            for j in range(col):\n",
    "                if grid[i][j] == \"1\":\n",
    "                    #print(grid)\n",
    "                    count += 1\n",
    "                    BFS(i, j)                    \n",
    "        \n",
    "        return count"
   ]
  },
  {
   "cell_type": "code",
   "execution_count": 126,
   "metadata": {},
   "outputs": [
    {
     "name": "stdout",
     "output_type": "stream",
     "text": [
      "grid=0\n",
      "grid=0\n",
      "grid=0\n",
      "grid=0\n",
      "grid=0\n",
      "grid=0\n",
      "grid=0\n",
      "grid=0\n",
      "grid=0\n",
      "1\n"
     ]
    }
   ],
   "source": [
    "obj = Solution()\n",
    "grid = [\n",
    "  [\"1\",\"1\",\"1\",\"1\",\"0\"],\n",
    "  [\"1\",\"1\",\"0\",\"1\",\"0\"],\n",
    "  [\"1\",\"1\",\"0\",\"0\",\"0\"],\n",
    "  [\"0\",\"0\",\"0\",\"0\",\"0\"]\n",
    "]\n",
    "r = obj.numberIslands(grid)\n",
    "print(r)"
   ]
  },
  {
   "cell_type": "code",
   "execution_count": null,
   "metadata": {},
   "outputs": [],
   "source": []
  }
 ],
 "metadata": {
  "kernelspec": {
   "display_name": "Python 3",
   "language": "python",
   "name": "python3"
  },
  "language_info": {
   "codemirror_mode": {
    "name": "ipython",
    "version": 3
   },
   "file_extension": ".py",
   "mimetype": "text/x-python",
   "name": "python",
   "nbconvert_exporter": "python",
   "pygments_lexer": "ipython3",
   "version": "3.7.6"
  }
 },
 "nbformat": 4,
 "nbformat_minor": 4
}
