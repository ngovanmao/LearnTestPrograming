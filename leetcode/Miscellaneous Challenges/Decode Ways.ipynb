{
 "cells": [
  {
   "cell_type": "markdown",
   "metadata": {},
   "source": [
    "```\n",
    "A message containing letters from A-Z is being encoded to numbers using the following mapping:\n",
    "\n",
    "'A' -> 1\n",
    "'B' -> 2\n",
    "...\n",
    "'Z' -> 26\n",
    "Given a non-empty string containing only digits, determine the total number of ways to decode it.\n",
    "\n",
    "The answer is guaranteed to fit in a 32-bit integer.\n",
    "\n",
    " \n",
    "\n",
    "Example 1:\n",
    "\n",
    "Input: s = \"12\"\n",
    "Output: 2\n",
    "Explanation: It could be decoded as \"AB\" (1 2) or \"L\" (12).\n",
    "Example 2:\n",
    "\n",
    "Input: s = \"226\"\n",
    "Output: 3\n",
    "Explanation: It could be decoded as \"BZ\" (2 26), \"VF\" (22 6), or \"BBF\" (2 2 6).\n",
    "Example 3:\n",
    "\n",
    "Input: s = \"0\"\n",
    "Output: 0\n",
    "Explanation: There is no character that is mapped to a number starting with '0'. We cannot ignore a zero when we face it while decoding. So, each '0' should be part of \"10\" --> 'J' or \"20\" --> 'T'.\n",
    "Example 4:\n",
    "\n",
    "Input: s = \"1\"\n",
    "Output: 1\n",
    " \n",
    "\n",
    "Constraints:\n",
    "\n",
    "1 <= s.length <= 100\n",
    "s contains only digits and may contain leading zero(s).\n",
    "```"
   ]
  },
  {
   "cell_type": "code",
   "execution_count": 2,
   "metadata": {},
   "outputs": [
    {
     "name": "stdout",
     "output_type": "stream",
     "text": [
      "23\n",
      "6\n"
     ]
    }
   ],
   "source": [
    "example = \"123456\"\n",
    "\n",
    "print(example[1:3])\n",
    "print(example[5:7])"
   ]
  },
  {
   "cell_type": "code",
   "execution_count": 630,
   "metadata": {},
   "outputs": [],
   "source": [
    "class Solution2(object):\n",
    "    def numDecodings(self, s):\n",
    "        \"\"\"\n",
    "        :type s: str\n",
    "        :rtype: int\n",
    "        \"\"\"\n",
    "        \n",
    "        start = 0\n",
    "        i = 0\n",
    "        while start < len(s):             \n",
    "            if int(s[start]) == 0:\n",
    "                start += 1\n",
    "            else:\n",
    "                break\n",
    "        print(start, len(s))\n",
    "        if start == len(s):\n",
    "            return 0\n",
    "        \n",
    "        return self.recursive_count(s, start, len(s)-1)\n",
    " \n",
    "    def recursive_count(self, s, start, end):\n",
    "        if end - start == 0:\n",
    "            num = int(s[end]) \n",
    "            next_num = int(s[end:end+3])\n",
    "            #print(\"last_num={}\".format(num))\n",
    "            if num > 10 or num < 0:\n",
    "                #print(\"return 0\")\n",
    "                return 0\n",
    "            if num == 0:\n",
    "                if next_num > 0 and next_num < 10:\n",
    "                    return 0\n",
    "            return 1\n",
    "        if end - start == 1:\n",
    "            num = int(s[start:end+1])\n",
    "            next_num = int(s[end:end+2])\n",
    "            next_three_num = int(s[end:end+3])            \n",
    "            print(\"num={}, next_num={}, next_three_num={}\".format(num, next_num, next_three_num))\n",
    "            if num < 10 or num > 26:                \n",
    "                return 1            \n",
    "            if num == 10 or num == 20:\n",
    "                if next_num > 0:\n",
    "                    return 1\n",
    "                if next_three_num <10 and next_three_num > 0:\n",
    "                    return 0\n",
    "                else:\n",
    "                    return 1            \n",
    "            if next_num == 0 or next_num == 10 or next_num ==20:\n",
    "                return 1\n",
    "            return 2\n",
    "        \n",
    "        split = start + (end - start)//2\n",
    "        if int(s[split]) == 0 or int(s[split:split+2])%10 == 0:\n",
    "            split \n",
    "        print(\"start={}, end={}, split = {}\".format(start, end, split))\n",
    "        count = self.recursive_count(s, start, split) * self.recursive_count(s, split + 1, end)\\\n",
    "                    + self.count_new_pair(s, split)\n",
    "        print(\"count = {}\".format(count))\n",
    "        return count\n",
    "        \n",
    "    def is_valid(self, num):\n",
    "        num = int(num)\n",
    "        if num < 27 and num > 0:\n",
    "            return True\n",
    "        return False\n",
    "    \n",
    "    def count_new_pair(self, s, split_id):\n",
    "        new_pair = s[split_id:split_id+2]  \n",
    "        next_pair = s[split_id+1:split_id+3]\n",
    "        print(\"new_pair ={}, next_pair={}\".format(new_pair, next_pair))\n",
    "        if not new_pair or not next_pair:\n",
    "            return 0\n",
    "        num = int(new_pair)        \n",
    "        next_num = int(next_pair)\n",
    "        if num == 10 or num == 20 or next_num == 10 or next_num == 20:            \n",
    "            return 0\n",
    "        if num < 27 and num > 10:\n",
    "            print(\"count_new_pair {}, r=1\".format(new_pair))\n",
    "            return 1\n",
    "        else:\n",
    "            print(\"count_new_pair {}, r=0\".format(new_pair))\n",
    "            return 0"
   ]
  },
  {
   "cell_type": "code",
   "execution_count": 631,
   "metadata": {},
   "outputs": [],
   "source": [
    "class Solution1(object):\n",
    "    def numDecodings(self, s):\n",
    "        \"\"\"\n",
    "        :type s: str\n",
    "        :rtype: int\n",
    "        \"\"\"\n",
    "        \n",
    "        start = 0\n",
    "        i = 0\n",
    "        while start < len(s):             \n",
    "            if int(s[start]) == 0:\n",
    "                start += 1\n",
    "            else:\n",
    "                break\n",
    "        print(start, len(s))\n",
    "        if start == len(s):\n",
    "            return 0\n",
    "        single = 1\n",
    "        pair = 0\n",
    "        last = s[start]\n",
    "        start += 1\n",
    "        while start < len(s): #for i in range(start, len(s)):\n",
    "            new_num = int(last + s[start])\n",
    "            next_num = int(s[start:start+2])\n",
    "            if new_num == 0:\n",
    "                return 0\n",
    "            if new_num < 10:\n",
    "                if pair > 0:\n",
    "                    single = 0\n",
    "            else:\n",
    "                if new_num == 10 or new_num == 20:\n",
    "                    if pair > 0:\n",
    "                        #if next_num != 0:                       \n",
    "                        single = 0\n",
    "                        pair += 1\n",
    "                elif new_num < 27:\n",
    "                    if next_num != 10 and next_num != 20 and next_num != 0:\n",
    "                        pair += 1\n",
    "            print(\"start={}, new_num={}, next_num={}, single={}, pair={}\".format(start, new_num, next_num, single, pair))\n",
    "            last = s[start]\n",
    "            start += 1\n",
    "        print(\"single={}, pair={}\".format(single, pair))\n",
    "        total = single + pair\n",
    "        return total\n",
    " "
   ]
  },
  {
   "cell_type": "code",
   "execution_count": 663,
   "metadata": {},
   "outputs": [],
   "source": [
    "# recursion solution\n",
    "class Solution(object):\n",
    "    def numDecodings(self, s):\n",
    "        \"\"\"\n",
    "        :type s: str\n",
    "        :rtype: int\n",
    "        \"\"\"\n",
    "        def dfs(index, map):\n",
    "            if index == len(s):\n",
    "                return 1\n",
    "            if s[index] == \"0\":\n",
    "                return 0\n",
    "            \n",
    "            if index in map:\n",
    "                return map[index]\n",
    "            if index + 2 <= len(s) and int(s[index:index+2]) <= 26:\n",
    "                single = dfs(index+1, map)\n",
    "                double = dfs(index+2, map)\n",
    "                map[index] = single + double\n",
    "            else:\n",
    "                map[index] = dfs(index+1, map)\n",
    "            return map[index]\n",
    "        map={}\n",
    "        return dfs(0, map)"
   ]
  },
  {
   "cell_type": "code",
   "execution_count": 721,
   "metadata": {},
   "outputs": [],
   "source": [
    "class Solution(object):\n",
    "    def numDecodings(self, s):\n",
    "        \"\"\"\n",
    "        :type s: str\n",
    "        :rtype: int\n",
    "        \"\"\"\n",
    "        n = len(s)\n",
    "        dp = [0 for i in range(n)]\n",
    "        if s[0] != \"0\":\n",
    "            dp[0] = 1\n",
    "        \n",
    "        for i in range(1, n):\n",
    "            single = int(s[i])\n",
    "            double = int(s[i-1:i+1])\n",
    "            #print(\"single={}, double={}\".format(single, double))\n",
    "            if single >= 1 and single <= 9:\n",
    "                dp[i] += dp[i-1]\n",
    "            if double >= 10 and double <= 26:\n",
    "                if i - 2 >=0:\n",
    "                    dp[i] += dp[i-2]\n",
    "                else:\n",
    "                    dp[i] += 1\n",
    "        return dp[-1]\n",
    "            "
   ]
  },
  {
   "cell_type": "code",
   "execution_count": 722,
   "metadata": {},
   "outputs": [],
   "source": [
    "def test(s, es):\n",
    "    obj = Solution()\n",
    "    rs = obj.numDecodings(s)\n",
    "    print(rs)\n",
    "    assert rs== es"
   ]
  },
  {
   "cell_type": "code",
   "execution_count": 723,
   "metadata": {},
   "outputs": [
    {
     "name": "stdout",
     "output_type": "stream",
     "text": [
      "0\n",
      "1\n"
     ]
    }
   ],
   "source": [
    "test(\"0\",0)\n",
    "test(\"207\", 1)"
   ]
  },
  {
   "cell_type": "code",
   "execution_count": 724,
   "metadata": {},
   "outputs": [
    {
     "name": "stdout",
     "output_type": "stream",
     "text": [
      "1\n",
      "0\n"
     ]
    }
   ],
   "source": [
    "test(\"10\",1)\n",
    "test(\"1001\",0)"
   ]
  },
  {
   "cell_type": "code",
   "execution_count": 725,
   "metadata": {},
   "outputs": [
    {
     "name": "stdout",
     "output_type": "stream",
     "text": [
      "2\n"
     ]
    }
   ],
   "source": [
    "ss = \"1210\"\n",
    "ess = 2\n",
    "test(ss, ess)"
   ]
  },
  {
   "cell_type": "code",
   "execution_count": 726,
   "metadata": {},
   "outputs": [
    {
     "name": "stdout",
     "output_type": "stream",
     "text": [
      "4\n"
     ]
    }
   ],
   "source": [
    "s12= \"261310\"\n",
    "# 2,6,1,3,10; 2,6,13,10; 26,13,10, 26,1,3,10\n",
    "es12= 4\n",
    "test(s12, es12)"
   ]
  },
  {
   "cell_type": "code",
   "execution_count": 727,
   "metadata": {},
   "outputs": [
    {
     "name": "stdout",
     "output_type": "stream",
     "text": [
      "1836311903\n"
     ]
    }
   ],
   "source": [
    "test(\"111111111111111111111111111111111111111111111\", 1836311903)"
   ]
  },
  {
   "cell_type": "code",
   "execution_count": 728,
   "metadata": {},
   "outputs": [
    {
     "name": "stdout",
     "output_type": "stream",
     "text": [
      "1\n"
     ]
    }
   ],
   "source": [
    "s10=\"2101\"\n",
    "es10=1\n",
    "test(s10, es10)"
   ]
  },
  {
   "cell_type": "code",
   "execution_count": 729,
   "metadata": {},
   "outputs": [
    {
     "name": "stdout",
     "output_type": "stream",
     "text": [
      "2\n"
     ]
    }
   ],
   "source": [
    "s1 = \"12\"\n",
    "es1 = 2\n",
    "test(s1, es1)"
   ]
  },
  {
   "cell_type": "code",
   "execution_count": 730,
   "metadata": {},
   "outputs": [
    {
     "name": "stdout",
     "output_type": "stream",
     "text": [
      "3\n"
     ]
    }
   ],
   "source": [
    "s2 = \"226\"\n",
    "es2 = 3\n",
    "test(s2, es2)"
   ]
  },
  {
   "cell_type": "code",
   "execution_count": 731,
   "metadata": {},
   "outputs": [
    {
     "name": "stdout",
     "output_type": "stream",
     "text": [
      "0\n"
     ]
    }
   ],
   "source": [
    "s3 = \"0\"\n",
    "es3 = 0\n",
    "test(s3, es3)"
   ]
  },
  {
   "cell_type": "code",
   "execution_count": 732,
   "metadata": {},
   "outputs": [
    {
     "name": "stdout",
     "output_type": "stream",
     "text": [
      "1\n"
     ]
    }
   ],
   "source": [
    "s4 = \"1\"\n",
    "es4 = 1\n",
    "test(s4, es4)"
   ]
  },
  {
   "cell_type": "code",
   "execution_count": 733,
   "metadata": {},
   "outputs": [
    {
     "name": "stdout",
     "output_type": "stream",
     "text": [
      "6\n"
     ]
    }
   ],
   "source": [
    "s5 = \"1229716\"\n",
    "es5 = 6\n",
    "test(s5, es5)"
   ]
  },
  {
   "cell_type": "code",
   "execution_count": 734,
   "metadata": {},
   "outputs": [
    {
     "name": "stdout",
     "output_type": "stream",
     "text": [
      "6\n"
     ]
    }
   ],
   "source": [
    "s6 = \"22617\"\n",
    "es6 = 6\n",
    "test(s6, es6)"
   ]
  },
  {
   "cell_type": "code",
   "execution_count": 735,
   "metadata": {},
   "outputs": [
    {
     "name": "stdout",
     "output_type": "stream",
     "text": [
      "6\n"
     ]
    }
   ],
   "source": [
    "s7 = \"2261017\"\n",
    "es7 = 6\n",
    "test(s7,es7)"
   ]
  },
  {
   "cell_type": "code",
   "execution_count": 736,
   "metadata": {},
   "outputs": [
    {
     "name": "stdout",
     "output_type": "stream",
     "text": [
      "1\n"
     ]
    }
   ],
   "source": [
    "s8 = \"99999\"\n",
    "es8 = 1\n",
    "test(s8, es8)"
   ]
  },
  {
   "cell_type": "code",
   "execution_count": 737,
   "metadata": {},
   "outputs": [
    {
     "name": "stdout",
     "output_type": "stream",
     "text": [
      "0\n"
     ]
    }
   ],
   "source": [
    "s9 = \"00002261017\"\n",
    "es9 = 0\n",
    "test(s9, es9)"
   ]
  },
  {
   "cell_type": "code",
   "execution_count": 738,
   "metadata": {},
   "outputs": [
    {
     "name": "stdout",
     "output_type": "stream",
     "text": [
      "0\n"
     ]
    }
   ],
   "source": [
    "s11 =\"00021010261310\"\n",
    "es11 = 0\n",
    "test(s11, es11)"
   ]
  },
  {
   "cell_type": "code",
   "execution_count": null,
   "metadata": {},
   "outputs": [],
   "source": []
  },
  {
   "cell_type": "code",
   "execution_count": null,
   "metadata": {},
   "outputs": [],
   "source": []
  },
  {
   "cell_type": "code",
   "execution_count": null,
   "metadata": {},
   "outputs": [],
   "source": []
  }
 ],
 "metadata": {
  "kernelspec": {
   "display_name": "Python 3",
   "language": "python",
   "name": "python3"
  },
  "language_info": {
   "codemirror_mode": {
    "name": "ipython",
    "version": 3
   },
   "file_extension": ".py",
   "mimetype": "text/x-python",
   "name": "python",
   "nbconvert_exporter": "python",
   "pygments_lexer": "ipython3",
   "version": "3.7.6"
  }
 },
 "nbformat": 4,
 "nbformat_minor": 4
}
