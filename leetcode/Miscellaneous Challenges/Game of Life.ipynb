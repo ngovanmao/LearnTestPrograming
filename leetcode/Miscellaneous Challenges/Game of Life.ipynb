{
 "cells": [
  {
   "cell_type": "markdown",
   "metadata": {},
   "source": [
    "\n",
    "According to Wikipedia's article: \"The Game of Life, also known simply as Life, is a cellular automaton devised by the British mathematician John Horton Conway in 1970.\"\n",
    "\n",
    "The board is made up of an m x n grid of cells, where each cell has an initial state: live (represented by a 1) or dead (represented by a 0). Each cell interacts with its eight neighbors (horizontal, vertical, diagonal) using the following four rules (taken from the above Wikipedia article):\n",
    "\n",
    "* Any live cell with fewer than two live neighbors dies as if caused by under-population.\n",
    "* Any live cell with two or three live neighbors lives on to the next generation.\n",
    "* Any live cell with more than three live neighbors dies, as if by over-population.\n",
    "* Any dead cell with exactly three live neighbors becomes a live cell, as if by reproduction.\n",
    "\n",
    "The next state is created by applying the above rules simultaneously to every cell in the current state, where births and deaths occur simultaneously. Given the current state of the m x n grid board, return the next state."
   ]
  },
  {
   "cell_type": "code",
   "execution_count": 1,
   "metadata": {},
   "outputs": [
    {
     "name": "stdout",
     "output_type": "stream",
     "text": [
      "1\n"
     ]
    }
   ],
   "source": [
    "a = 0b01\n",
    "print(a)"
   ]
  },
  {
   "cell_type": "code",
   "execution_count": 3,
   "metadata": {},
   "outputs": [
    {
     "name": "stdout",
     "output_type": "stream",
     "text": [
      "7\n"
     ]
    }
   ],
   "source": [
    "b=0b111\n",
    "print(b)"
   ]
  },
  {
   "cell_type": "code",
   "execution_count": 4,
   "metadata": {},
   "outputs": [
    {
     "name": "stdout",
     "output_type": "stream",
     "text": [
      "1\n"
     ]
    }
   ],
   "source": [
    "a = 7\n",
    "print(a & 0b1)\n"
   ]
  },
  {
   "cell_type": "code",
   "execution_count": 13,
   "metadata": {},
   "outputs": [
    {
     "name": "stdout",
     "output_type": "stream",
     "text": [
      "a=1, s=101\n",
      "a=1011, s=101\n"
     ]
    }
   ],
   "source": [
    "a = 1\n",
    "s = 5\n",
    "print(\"a={0:b}, s={1:b}\".format(a, s))\n",
    "a |= s << 1\n",
    "print(\"a={0:b}, s={1:b}\".format(a, s))"
   ]
  },
  {
   "cell_type": "code",
   "execution_count": 16,
   "metadata": {},
   "outputs": [],
   "source": [
    "class Solution(object):\n",
    "    def gameOfLife(self, board):\n",
    "        \"\"\"\n",
    "        :type board: List[List[int]]\n",
    "        :rtype: None Do not return anything, modify board in-place instead.\n",
    "        \"\"\"\n",
    "        m = len(board)\n",
    "        n = len(board[0])\n",
    "        \n",
    "        def next_state(cur_state, sum):\n",
    "            if cur_state == 1: # live cell\n",
    "                if sum <= 1:\n",
    "                    return 0\n",
    "                elif sum == 2 or sum == 3:\n",
    "                    return 1\n",
    "                else:\n",
    "                    return 0\n",
    "            else:\n",
    "                if sum == 3:\n",
    "                    return 1\n",
    "                else: \n",
    "                    return 0\n",
    "                \n",
    "        def count_neighbor(i, j):\n",
    "            s = 0\n",
    "            if i - 1 >=0:\n",
    "                s += board[i-1][j] & 0b1\n",
    "                if j - 1 >= 0:\n",
    "                    s += (board[i-1][j-1] & 0b1)                  \n",
    "                if j + 1 < n:\n",
    "                    s += (board[i-1][j+1] & 0b1)\n",
    "            if i + 1 < m:\n",
    "                s += board[i+1][j] & 0b1\n",
    "                if j - 1 >= 0:\n",
    "                    s += (board[i+1][j-1] & 0b1)\n",
    "                if j + 1 < n:\n",
    "                    s += (board[i+1][j+1] & 0b1)\n",
    "            if j - 1 >= 0:\n",
    "                s += board[i][j-1] & 0b1 \n",
    "            if j + 1 < n:\n",
    "                s += board[i][j+1] & 0b1\n",
    "                \n",
    "            #n_state =  next_state(board[i][j] & 0b1, s)           \n",
    "            board[i][j] |= next_state(board[i][j] & 0b1, s) << 1\n",
    "            #print(\"board[{0:d}][{1:d}]={2:b}, s={3:d}, n_state={4:b}\".format(i,j, board[i][j], s, n_state))\n",
    "                    \n",
    "        \n",
    "        #print(\"m={}, n={}\".format(m, n))\n",
    "        for r in range(m):\n",
    "            for c in range(n):\n",
    "                count_neighbor(r, c)\n",
    "                \n",
    "        for r,c in range(m):\n",
    "            for c in range(n):\n",
    "                board[r][c] = board[r][c] >> 1\n",
    "        "
   ]
  },
  {
   "cell_type": "code",
   "execution_count": 17,
   "metadata": {},
   "outputs": [],
   "source": [
    "class Solution(object):\n",
    "    def gameOfLife(self, board):\n",
    "        \"\"\"\n",
    "        :type board: List[List[int]]\n",
    "        :rtype: None Do not return anything, modify board in-place instead.\n",
    "        \"\"\"\n",
    "        m = len(board)\n",
    "        n = len(board[0])\n",
    "        \n",
    "        def next_state(cur_state, sum):\n",
    "            if cur_state == 1: # live cell\n",
    "                return 1 if (sum == 2 or sum == 3) else 0                \n",
    "            else:\n",
    "                return 1 if sum == 3 else 0                \n",
    "                \n",
    "        def count_neighbor(i, j):\n",
    "            s = 0\n",
    "            neighbors = [(-1,-1), (-1,0), (-1,1), (0,-1), (0,1), (1,-1), (1,0), (1,1)]\n",
    "            for neighbor in neighbors:\n",
    "                r = i + neighbor[0]\n",
    "                c = j + neighbor[1]\n",
    "                if (r < m and r >= 0) and (c < n and c >=0) and (board[r][c] & 0b1 ==1):\n",
    "                    s += 1                \n",
    "            n_state = next_state(board[i][j] & 0b1, s)            \n",
    "            board[i][j] |= n_state << 1         \n",
    "                    \n",
    "        for row in range(m):\n",
    "            for col in range(n):\n",
    "                count_neighbor(row, col)\n",
    "                \n",
    "        for row in range(m):\n",
    "            for col in range(n):\n",
    "                board[row][col] = board[row][col] >> 1\n",
    "        "
   ]
  },
  {
   "cell_type": "code",
   "execution_count": null,
   "metadata": {},
   "outputs": [],
   "source": []
  }
 ],
 "metadata": {
  "kernelspec": {
   "display_name": "Python 3",
   "language": "python",
   "name": "python3"
  },
  "language_info": {
   "codemirror_mode": {
    "name": "ipython",
    "version": 3
   },
   "file_extension": ".py",
   "mimetype": "text/x-python",
   "name": "python",
   "nbconvert_exporter": "python",
   "pygments_lexer": "ipython3",
   "version": "3.7.6"
  }
 },
 "nbformat": 4,
 "nbformat_minor": 4
}
