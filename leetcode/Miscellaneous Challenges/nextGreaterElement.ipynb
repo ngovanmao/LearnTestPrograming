{
 "cells": [
  {
   "cell_type": "code",
   "execution_count": 15,
   "metadata": {},
   "outputs": [
    {
     "name": "stdout",
     "output_type": "stream",
     "text": [
      "[1, 2]\n",
      "[1, 2]\n"
     ]
    }
   ],
   "source": [
    "n = 21\n",
    "def get_digits(n):\n",
    "    output =[]\n",
    "    while n > 0:\n",
    "        r = n % 10\n",
    "        n = int((n -r)/10)\n",
    "        output.append(r)\n",
    "    return output\n",
    "\n",
    "output = get_digits(n)\n",
    "print(output)\n",
    "sort_digits = sorted(output)\n",
    "print(sort_digits)"
   ]
  },
  {
   "cell_type": "code",
   "execution_count": 9,
   "metadata": {},
   "outputs": [
    {
     "name": "stdout",
     "output_type": "stream",
     "text": [
      "74321\n"
     ]
    }
   ],
   "source": [
    "def get_largest(digits):\n",
    "    output = 0 \n",
    "    for d in digits:\n",
    "        output = output*10 + d\n",
    "    return output\n",
    "\n",
    "print(get_largest(sort_digits))\n",
    "        "
   ]
  },
  {
   "cell_type": "code",
   "execution_count": 7,
   "metadata": {},
   "outputs": [
    {
     "name": "stdout",
     "output_type": "stream",
     "text": [
      "[]\n",
      "0\n"
     ]
    }
   ],
   "source": [
    "\n",
    "output_0 = get_digits(0)\n",
    "print(output_0)\n",
    "print(get_largest(output_0))"
   ]
  },
  {
   "cell_type": "code",
   "execution_count": 10,
   "metadata": {},
   "outputs": [
    {
     "data": {
      "text/plain": [
       "[7, 4, 3, 2, 1]"
      ]
     },
     "execution_count": 10,
     "metadata": {},
     "output_type": "execute_result"
    }
   ],
   "source": [
    "sort_digits "
   ]
  },
  {
   "cell_type": "code",
   "execution_count": 11,
   "metadata": {},
   "outputs": [],
   "source": [
    "b = [7,4,3,2,1]"
   ]
  },
  {
   "cell_type": "code",
   "execution_count": 12,
   "metadata": {},
   "outputs": [
    {
     "data": {
      "text/plain": [
       "True"
      ]
     },
     "execution_count": 12,
     "metadata": {},
     "output_type": "execute_result"
    }
   ],
   "source": [
    "sort_digits == b"
   ]
  },
  {
   "cell_type": "code",
   "execution_count": 22,
   "metadata": {},
   "outputs": [
    {
     "name": "stdout",
     "output_type": "stream",
     "text": [
      "7\n",
      "6\n",
      "5\n",
      "4\n"
     ]
    }
   ],
   "source": [
    "\n",
    "for i in range(7, 3, -1):\n",
    "    print(i)"
   ]
  },
  {
   "cell_type": "code",
   "execution_count": 26,
   "metadata": {},
   "outputs": [
    {
     "name": "stdout",
     "output_type": "stream",
     "text": [
      "4 1\n",
      "3 2\n",
      "2 3\n",
      "1 4\n",
      "0 7\n"
     ]
    }
   ],
   "source": [
    "for i, d in reversed(list(enumerate(b))):\n",
    "    print(i, d)"
   ]
  },
  {
   "cell_type": "code",
   "execution_count": 84,
   "metadata": {},
   "outputs": [],
   "source": [
    "class Solution(object):\n",
    "    def nextGreaterElement(self, n):\n",
    "        \"\"\"\n",
    "        :type n: int\n",
    "        :rtype: int\n",
    "        \"\"\"\n",
    "        digits = self.get_digits(n)\n",
    "        print(digits)\n",
    "        # id not increase from the last digit (smallest/tail)\n",
    "        \n",
    "        #\n",
    "        for i, d in reversed(list(enumerate(digits))):\n",
    "            print(\"i={},d={}\".format(i,d))\n",
    "            if d > digits[i-1]:\n",
    "                break\n",
    "        id_not_increase = i\n",
    "        print(\"id_not_increase={}\".format(id_not_increase))\n",
    "        if id_not_increase == 0:\n",
    "            return -1\n",
    "        id_swap_smaller = id_not_increase - 1\n",
    "        swap_smaller = digits[id_swap_smaller]\n",
    "        #id_swap_larger = ?\n",
    "        id_swap_larger = id_not_increase\n",
    "        \n",
    "        for i in range(len(digits)-1, id_not_increase-1, -1):\n",
    "            if swap_smaller < digits[i]:\n",
    "                id_swap_larger = i                \n",
    "                break\n",
    "        swap_larger = digits[id_swap_larger]\n",
    "        digits[id_swap_smaller] = swap_larger\n",
    "        digits[id_swap_larger] = swap_smaller\n",
    "        # rearrange the tail to get the smallest\n",
    "        head = digits[:id_swap_smaller+1]\n",
    "        tail = digits[id_swap_smaller+1:]\n",
    "        print(\"tail=\", tail)\n",
    "        tail = sorted(tail)\n",
    "        print(tail)\n",
    "        out_digits = head + tail\n",
    "        \n",
    "        return self.number_from_digits(out_digits)             \n",
    "    \n",
    "    def get_digits(self, n):\n",
    "        output =[]\n",
    "        while n > 0:\n",
    "            r = n % 10\n",
    "            n = int((n -r)/10)\n",
    "            #output.append(r)\n",
    "            output.insert(0,r)\n",
    "        return output\n",
    "    \n",
    "    def number_from_digits(self, digits):\n",
    "        output = 0 \n",
    "        for d in digits:\n",
    "            output = output*10 + d\n",
    "        return output\n",
    "    \n"
   ]
  },
  {
   "cell_type": "code",
   "execution_count": 78,
   "metadata": {},
   "outputs": [
    {
     "name": "stdout",
     "output_type": "stream",
     "text": [
      "[1, 2, 3, 4]\n",
      "i=3,d=4\n",
      "id_not_increase=3\n",
      "tail= [3]\n",
      "[3]\n"
     ]
    },
    {
     "data": {
      "text/plain": [
       "1243"
      ]
     },
     "execution_count": 78,
     "metadata": {},
     "output_type": "execute_result"
    }
   ],
   "source": [
    "n = 1234\n",
    "test = Solution()\n",
    "test.nextGreaterElement(1234)"
   ]
  },
  {
   "cell_type": "code",
   "execution_count": 79,
   "metadata": {},
   "outputs": [
    {
     "name": "stdout",
     "output_type": "stream",
     "text": [
      "[2, 1]\n",
      "i=1,d=1\n",
      "i=0,d=2\n",
      "id_not_increase=0\n"
     ]
    },
    {
     "data": {
      "text/plain": [
       "-1"
      ]
     },
     "execution_count": 79,
     "metadata": {},
     "output_type": "execute_result"
    }
   ],
   "source": [
    "test.nextGreaterElement(21)"
   ]
  },
  {
   "cell_type": "code",
   "execution_count": 80,
   "metadata": {},
   "outputs": [
    {
     "name": "stdout",
     "output_type": "stream",
     "text": [
      "[1, 2]\n",
      "i=1,d=2\n",
      "id_not_increase=1\n",
      "tail= [1]\n",
      "[1]\n"
     ]
    },
    {
     "data": {
      "text/plain": [
       "21"
      ]
     },
     "execution_count": 80,
     "metadata": {},
     "output_type": "execute_result"
    }
   ],
   "source": [
    "test.nextGreaterElement(12)"
   ]
  },
  {
   "cell_type": "code",
   "execution_count": 81,
   "metadata": {},
   "outputs": [
    {
     "name": "stdout",
     "output_type": "stream",
     "text": [
      "[1, 2, 3, 0, 9, 4, 8, 7, 1]\n",
      "i=8,d=1\n",
      "i=7,d=7\n",
      "i=6,d=8\n",
      "id_not_increase=6\n",
      "tail= [8, 4, 1]\n",
      "[1, 4, 8]\n"
     ]
    },
    {
     "data": {
      "text/plain": [
       "123097148"
      ]
     },
     "execution_count": 81,
     "metadata": {},
     "output_type": "execute_result"
    }
   ],
   "source": [
    "test.nextGreaterElement(123094871)"
   ]
  },
  {
   "cell_type": "code",
   "execution_count": 82,
   "metadata": {},
   "outputs": [
    {
     "name": "stdout",
     "output_type": "stream",
     "text": [
      "[1, 1]\n",
      "i=1,d=1\n",
      "i=0,d=1\n",
      "id_not_increase=0\n"
     ]
    },
    {
     "data": {
      "text/plain": [
       "-1"
      ]
     },
     "execution_count": 82,
     "metadata": {},
     "output_type": "execute_result"
    }
   ],
   "source": [
    "test.nextGreaterElement(11)"
   ]
  },
  {
   "cell_type": "code",
   "execution_count": 83,
   "metadata": {},
   "outputs": [
    {
     "name": "stdout",
     "output_type": "stream",
     "text": [
      "[2, 3, 0, 2, 4, 1]\n",
      "i=5,d=1\n",
      "i=4,d=4\n",
      "id_not_increase=4\n",
      "tail= [2, 1]\n",
      "[1, 2]\n"
     ]
    },
    {
     "data": {
      "text/plain": [
       "230412"
      ]
     },
     "execution_count": 83,
     "metadata": {},
     "output_type": "execute_result"
    }
   ],
   "source": [
    "test.nextGreaterElement(230241)"
   ]
  },
  {
   "cell_type": "code",
   "execution_count": 85,
   "metadata": {},
   "outputs": [
    {
     "name": "stdout",
     "output_type": "stream",
     "text": [
      "[1, 9, 9, 9, 9, 9, 9, 9, 9, 9]\n",
      "i=9,d=9\n",
      "i=8,d=9\n",
      "i=7,d=9\n",
      "i=6,d=9\n",
      "i=5,d=9\n",
      "i=4,d=9\n",
      "i=3,d=9\n",
      "i=2,d=9\n",
      "i=1,d=9\n",
      "id_not_increase=1\n",
      "tail= [9, 9, 9, 9, 9, 9, 9, 9, 1]\n",
      "[1, 9, 9, 9, 9, 9, 9, 9, 9]\n"
     ]
    },
    {
     "data": {
      "text/plain": [
       "9199999999"
      ]
     },
     "execution_count": 85,
     "metadata": {},
     "output_type": "execute_result"
    }
   ],
   "source": [
    "test.nextGreaterElement(1999999999)"
   ]
  },
  {
   "cell_type": "code",
   "execution_count": null,
   "metadata": {},
   "outputs": [],
   "source": []
  }
 ],
 "metadata": {
  "kernelspec": {
   "display_name": "Python 3",
   "language": "python",
   "name": "python3"
  },
  "language_info": {
   "codemirror_mode": {
    "name": "ipython",
    "version": 3
   },
   "file_extension": ".py",
   "mimetype": "text/x-python",
   "name": "python",
   "nbconvert_exporter": "python",
   "pygments_lexer": "ipython3",
   "version": "3.7.6"
  }
 },
 "nbformat": 4,
 "nbformat_minor": 4
}
