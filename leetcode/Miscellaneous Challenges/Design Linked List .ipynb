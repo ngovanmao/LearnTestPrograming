{
 "cells": [
  {
   "cell_type": "code",
   "execution_count": 45,
   "metadata": {},
   "outputs": [],
   "source": [
    "class ListNode(object):\n",
    "    def __init__(self, val=0, next=None):\n",
    "        self.val = val\n",
    "        self.next = next\n",
    "    def __str__(self):\n",
    "        return \"[val={}, next={}]\".format(self.val, self.next)\n",
    "        \n",
    "class MyLinkedList(object):\n",
    "\n",
    "    def __init__(self):\n",
    "        \"\"\"\n",
    "        Initialize your data structure here.\n",
    "        \"\"\"\n",
    "        self.head = None\n",
    "        \n",
    "\n",
    "    def get(self, index):\n",
    "        \"\"\"\n",
    "        Get the value of the index-th node in the linked list. If the index is invalid, return -1.\n",
    "        :type index: int\n",
    "        :rtype: int\n",
    "        \"\"\"\n",
    "        i = 0\n",
    "        node = self.head\n",
    "        while i < index:\n",
    "            if node is None:\n",
    "                return -1\n",
    "            node = node.next\n",
    "            i += 1\n",
    "        if node is None:\n",
    "            return -1\n",
    "        return node.val            \n",
    "\n",
    "    def addAtHead(self, val):\n",
    "        \"\"\"\n",
    "        Add a node of value val before the first element of the linked list. After the insertion, the new node will be the first node of the linked list.\n",
    "        :type val: int\n",
    "        :rtype: None\n",
    "        \"\"\"\n",
    "        add_node = ListNode(val=val, next=self.head)\n",
    "        if self.head:\n",
    "            add_node.next = self.head\n",
    "            self.head = add_node\n",
    "        else:\n",
    "            self.head = add_node\n",
    "        print(self.head)\n",
    "        \n",
    "\n",
    "    def addAtTail(self, val):\n",
    "        \"\"\"\n",
    "        Append a node of value val to the last element of the linked list.\n",
    "        :type val: int\n",
    "        :rtype: None\n",
    "        \"\"\"\n",
    "        add_node = ListNode(val=val)\n",
    "        \n",
    "        if self.head is None:\n",
    "            self.head = add_node\n",
    "            print(self.head)\n",
    "            return\n",
    "        \n",
    "        last_node = self.head\n",
    "        while last_node.next is not None:            \n",
    "            last_node = last_node.next\n",
    "        last_node.next = add_node\n",
    "        print(self.head)\n",
    "        \n",
    "    def addAtIndex(self, index, val):\n",
    "        \"\"\"\n",
    "        Add a node of value val before the index-th node in the linked list. If index equals to the length of linked list, the node will be appended to the end of linked list. If index is greater than the length, the node will not be inserted.\n",
    "        :type index: int\n",
    "        :type val: int\n",
    "        :rtype: None\n",
    "        \"\"\"\n",
    "        if index == 0:\n",
    "            return addAtHead(val)\n",
    "        add_node = ListNode(val=val)\n",
    "        i = 0\n",
    "        pre_node = self.head\n",
    "        while i < index-1:\n",
    "            # if index is greater than length\n",
    "            if pre_node is None:\n",
    "                return\n",
    "            pre_node = pre_node.next\n",
    "            i += 1            \n",
    "        if pre_node is None:\n",
    "            return\n",
    "        add_node.next = pre_node.next\n",
    "        pre_node.next = add_node\n",
    "        print(\"addAtIndex(i={})={}\".format(index, self.head))\n",
    "\n",
    "    def deleteAtIndex(self, index):\n",
    "        \"\"\"\n",
    "        Delete the index-th node in the linked list, if the index is valid.\n",
    "        :type index: int\n",
    "        :rtype: None\n",
    "        \"\"\"\n",
    "        if index == 0:\n",
    "            self.head = self.head.next\n",
    "        else:\n",
    "            i = 0\n",
    "            pre_node = self.head\n",
    "            while i < index - 1:\n",
    "                if pre_node is None:\n",
    "                    return\n",
    "                pre_node = pre_node.next\n",
    "                i += 1\n",
    "            if pre_node is None:\n",
    "                return\n",
    "            del_node = pre_node.next\n",
    "            if del_node is None:\n",
    "                return\n",
    "            pre_node.next = del_node.next\n",
    "        print(self.head)\n",
    "\n",
    "# Your MyLinkedList object will be instantiated and called as such:\n",
    "# obj = MyLinkedList()\n",
    "# param_1 = obj.get(index)\n",
    "# obj.addAtHead(val)\n",
    "# obj.addAtTail(val)\n",
    "# obj.addAtIndex(index,val)\n",
    "# obj.deleteAtIndex(index)"
   ]
  },
  {
   "cell_type": "code",
   "execution_count": 47,
   "metadata": {},
   "outputs": [
    {
     "name": "stdout",
     "output_type": "stream",
     "text": [
      "[val=1, next=None]\n"
     ]
    },
    {
     "data": {
      "text/plain": [
       "1"
      ]
     },
     "execution_count": 47,
     "metadata": {},
     "output_type": "execute_result"
    }
   ],
   "source": [
    "# Test failed 2:\n",
    "#[\"MyLinkedList\",\"addAtTail\",\"get\"]\n",
    "#[[],[1],[0]]\n",
    "obj2 = MyLinkedList()\n",
    "obj2.addAtTail(1)\n",
    "obj2.get(0)"
   ]
  },
  {
   "cell_type": "code",
   "execution_count": 27,
   "metadata": {},
   "outputs": [],
   "source": [
    "obj = MyLinkedList()\n",
    "ops=[\"MyLinkedList\",\"addAtHead\",\"addAtHead\",\"addAtHead\",\"addAtIndex\",\"deleteAtIndex\",\"addAtHead\",\"addAtTail\",\"get\",\"addAtHead\",\"addAtIndex\",\"addAtHead\"]\n",
    "vals=[[],[7],[2],[1],[3,0],[2],[6],[4],[4],[4],[5,0],[6]]\n"
   ]
  },
  {
   "cell_type": "code",
   "execution_count": 28,
   "metadata": {},
   "outputs": [
    {
     "name": "stdout",
     "output_type": "stream",
     "text": [
      "[val=7, next=None]\n",
      "[val=2, next=[val=7, next=None]]\n",
      "[val=1, next=[val=2, next=[val=7, next=None]]]\n"
     ]
    }
   ],
   "source": [
    "obj.addAtHead(7)\n",
    "obj.addAtHead(2)\n",
    "obj.addAtHead(1)"
   ]
  },
  {
   "cell_type": "code",
   "execution_count": 29,
   "metadata": {},
   "outputs": [
    {
     "name": "stdout",
     "output_type": "stream",
     "text": [
      "addAtIndex(i=3)=[val=1, next=[val=2, next=[val=7, next=[val=0, next=None]]]]\n"
     ]
    }
   ],
   "source": [
    "obj.addAtIndex(3,0)"
   ]
  },
  {
   "cell_type": "code",
   "execution_count": 30,
   "metadata": {},
   "outputs": [
    {
     "name": "stdout",
     "output_type": "stream",
     "text": [
      "[val=1, next=[val=2, next=[val=0, next=None]]]\n"
     ]
    }
   ],
   "source": [
    "obj.deleteAtIndex(2)"
   ]
  },
  {
   "cell_type": "code",
   "execution_count": 31,
   "metadata": {},
   "outputs": [
    {
     "name": "stdout",
     "output_type": "stream",
     "text": [
      "[val=6, next=[val=1, next=[val=2, next=[val=0, next=None]]]]\n"
     ]
    }
   ],
   "source": [
    "obj.addAtHead(6)"
   ]
  },
  {
   "cell_type": "code",
   "execution_count": 32,
   "metadata": {},
   "outputs": [
    {
     "name": "stdout",
     "output_type": "stream",
     "text": [
      "[val=6, next=[val=1, next=[val=2, next=[val=0, next=[val=4, next=None]]]]]\n"
     ]
    }
   ],
   "source": [
    "obj.addAtTail(4)"
   ]
  },
  {
   "cell_type": "code",
   "execution_count": 33,
   "metadata": {},
   "outputs": [
    {
     "data": {
      "text/plain": [
       "4"
      ]
     },
     "execution_count": 33,
     "metadata": {},
     "output_type": "execute_result"
    }
   ],
   "source": [
    "obj.get(4)"
   ]
  },
  {
   "cell_type": "code",
   "execution_count": 34,
   "metadata": {},
   "outputs": [
    {
     "data": {
      "text/plain": [
       "-1"
      ]
     },
     "execution_count": 34,
     "metadata": {},
     "output_type": "execute_result"
    }
   ],
   "source": [
    "obj.get(5)\n",
    "obj.get(6)"
   ]
  },
  {
   "cell_type": "code",
   "execution_count": 36,
   "metadata": {},
   "outputs": [
    {
     "name": "stdout",
     "output_type": "stream",
     "text": [
      "[val=4, next=[val=6, next=[val=1, next=[val=2, next=[val=0, next=[val=4, next=None]]]]]]\n"
     ]
    }
   ],
   "source": [
    "obj.addAtHead(4)"
   ]
  },
  {
   "cell_type": "code",
   "execution_count": 37,
   "metadata": {},
   "outputs": [
    {
     "name": "stdout",
     "output_type": "stream",
     "text": [
      "addAtIndex(i=5)=[val=4, next=[val=6, next=[val=1, next=[val=2, next=[val=0, next=[val=0, next=[val=4, next=None]]]]]]]\n"
     ]
    }
   ],
   "source": [
    "obj.addAtIndex(5,0)"
   ]
  },
  {
   "cell_type": "code",
   "execution_count": 38,
   "metadata": {},
   "outputs": [
    {
     "name": "stdout",
     "output_type": "stream",
     "text": [
      "[val=6, next=[val=4, next=[val=6, next=[val=1, next=[val=2, next=[val=0, next=[val=0, next=[val=4, next=None]]]]]]]]\n"
     ]
    }
   ],
   "source": [
    "obj.addAtHead(6)"
   ]
  },
  {
   "cell_type": "code",
   "execution_count": 39,
   "metadata": {},
   "outputs": [],
   "source": [
    "obj.addAtIndex(9,0)"
   ]
  },
  {
   "cell_type": "code",
   "execution_count": 40,
   "metadata": {},
   "outputs": [
    {
     "name": "stdout",
     "output_type": "stream",
     "text": [
      "addAtIndex(i=8)=[val=6, next=[val=4, next=[val=6, next=[val=1, next=[val=2, next=[val=0, next=[val=0, next=[val=4, next=[val=0, next=None]]]]]]]]]\n"
     ]
    }
   ],
   "source": [
    "obj.addAtIndex(8,0)"
   ]
  },
  {
   "cell_type": "code",
   "execution_count": null,
   "metadata": {},
   "outputs": [],
   "source": []
  }
 ],
 "metadata": {
  "kernelspec": {
   "display_name": "Python 3",
   "language": "python",
   "name": "python3"
  },
  "language_info": {
   "codemirror_mode": {
    "name": "ipython",
    "version": 3
   },
   "file_extension": ".py",
   "mimetype": "text/x-python",
   "name": "python",
   "nbconvert_exporter": "python",
   "pygments_lexer": "ipython3",
   "version": "3.7.6"
  }
 },
 "nbformat": 4,
 "nbformat_minor": 4
}
