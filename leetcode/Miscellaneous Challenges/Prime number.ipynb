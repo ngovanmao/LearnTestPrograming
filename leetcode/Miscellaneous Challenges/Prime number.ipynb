{
 "cells": [
  {
   "cell_type": "markdown",
   "metadata": {},
   "source": [
    "Find minimum prime number that is larger than 10000\n",
    "```\n",
    "Task :\n",
    "Given a List [] of n integers , find minimum number to be inserted in a list, so that sum of all elements of list should equal the closest prime number .\n",
    "\n",
    "Notes\n",
    "List size is at least 2 .\n",
    "\n",
    "List's numbers will only positives (n > 0) .\n",
    "\n",
    "Repetition of numbers in the list could occur .\n",
    "\n",
    "The newer list's sum should equal the closest prime number .\n",
    "\n",
    "Input >> Output Examples\n",
    "1- minimumNumber ({3,1,2}) ==> return (1)\n",
    "Explanation:\n",
    "Since , the sum of the list's elements equal to (6) , the minimum number to be inserted to transform the sum to prime number is (1) , which will make *the sum of the List** equal the closest prime number (7)* .\n",
    "2-  minimumNumber ({2,12,8,4,6}) ==> return (5)\n",
    "Explanation:\n",
    "Since , the sum of the list's elements equal to (32) , the minimum number to be inserted to transform the sum to prime number is (5) , which will make *the sum of the List** equal the closest prime number (37)* .\n",
    "3- minimumNumber ({50,39,49,6,17,28}) ==> return (2)\n",
    "Explanation:\n",
    "Since , the sum of the list's elements equal to (189) , the minimum number to be inserted to transform the sum to prime number is (2) , which will make *the sum of the List** equal the closest prime number (191)* .\n",
    "```"
   ]
  },
  {
   "cell_type": "code",
   "execution_count": 2,
   "metadata": {},
   "outputs": [],
   "source": [
    "from math import sqrt\n",
    "from itertools import count, islice\n",
    "\n",
    "def is_prime_number(num):\n",
    "    return (num > 2 and all(num % i for i in islice(count(2), int(sqrt(num)-1) ) ) )\n",
    "    \n",
    "def minimum_number(numbers):\n",
    "    #your code here\n",
    "    assert len(numbers) > 1, 'List size is at least 2'\n",
    "    sum = 0\n",
    "    for n in numbers:\n",
    "        assert n > 0, 'List numbers are only positives'\n",
    "        sum += n\n",
    "    new_sum = sum\n",
    "    while not is_prime_number(new_sum):\n",
    "        new_sum += 1\n",
    "    insert_num = new_sum - sum\n",
    "    print(\"Closet prime number={}, Insert number = {}\".format(new_sum,insert_num))\n",
    "    return insert_num\n"
   ]
  },
  {
   "cell_type": "code",
   "execution_count": 6,
   "metadata": {},
   "outputs": [
    {
     "name": "stdout",
     "output_type": "stream",
     "text": [
      "9973\n",
      "14983\n"
     ]
    }
   ],
   "source": [
    "def find_max_prime_below(n):\n",
    "    for i in reversed(range(n)):\n",
    "        if is_prime_number(i):\n",
    "            return i\n",
    "print(find_max_prime_below(10000))\n",
    "print(find_max_prime_below(15000))"
   ]
  },
  {
   "cell_type": "code",
   "execution_count": 5,
   "metadata": {},
   "outputs": [
    {
     "name": "stdout",
     "output_type": "stream",
     "text": [
      "10007\n"
     ]
    }
   ],
   "source": [
    "def find_min_prime_above(n):\n",
    "    i = n \n",
    "    while i < 20*n:        \n",
    "        if is_prime_number(i):\n",
    "            return i\n",
    "        i += 1\n",
    "print(find_min_prime_above(10000))"
   ]
  },
  {
   "cell_type": "code",
   "execution_count": 8,
   "metadata": {},
   "outputs": [
    {
     "name": "stdout",
     "output_type": "stream",
     "text": [
      "true\n"
     ]
    }
   ],
   "source": [
    "a =[1,2]\n",
    "if a:\n",
    "    print(\"true\")"
   ]
  },
  {
   "cell_type": "code",
   "execution_count": 10,
   "metadata": {},
   "outputs": [
    {
     "name": "stdout",
     "output_type": "stream",
     "text": [
      "{0: 0, 1: 0, 2: 0, 3: 0, 4: 0, 5: 0, 6: 0, 7: 0, 8: 0, 9: 0}\n"
     ]
    }
   ],
   "source": [
    "d = {i:0 for i in range(10)}\n",
    "for "
   ]
  },
  {
   "cell_type": "code",
   "execution_count": null,
   "metadata": {},
   "outputs": [],
   "source": []
  }
 ],
 "metadata": {
  "kernelspec": {
   "display_name": "Python 3",
   "language": "python",
   "name": "python3"
  },
  "language_info": {
   "codemirror_mode": {
    "name": "ipython",
    "version": 3
   },
   "file_extension": ".py",
   "mimetype": "text/x-python",
   "name": "python",
   "nbconvert_exporter": "python",
   "pygments_lexer": "ipython3",
   "version": "3.7.6"
  }
 },
 "nbformat": 4,
 "nbformat_minor": 4
}
