{
 "cells": [
  {
   "cell_type": "code",
   "execution_count": 22,
   "metadata": {},
   "outputs": [],
   "source": [
    "# Definition for singly-linked list.\n",
    "class ListNode(object):\n",
    "    def __init__(self, val=0, next=None):\n",
    "        self.val = val\n",
    "        self.next = next\n",
    "    def __str__(self):\n",
    "        return \"[val={}, next={}]\".format(self.val, self.next)\n",
    "\n",
    "class MyLinkedList(object):\n",
    "\n",
    "    def __init__(self):\n",
    "        \"\"\"\n",
    "        Initialize your data structure here.\n",
    "        \"\"\"\n",
    "        self.head = None\n",
    "        \n",
    "\n",
    "    def get(self, index):\n",
    "        \"\"\"\n",
    "        Get the value of the index-th node in the linked list. If the index is invalid, return -1.\n",
    "        :type index: int\n",
    "        :rtype: int\n",
    "        \"\"\"\n",
    "        i = 0\n",
    "        node = self.head\n",
    "        while i < index:\n",
    "            if node is None:\n",
    "                return -1\n",
    "            node = node.next\n",
    "            i += 1\n",
    "        if node is None:\n",
    "            return -1\n",
    "        return node.val            \n",
    "\n",
    "    def addAtHead(self, val):\n",
    "        \"\"\"\n",
    "        Add a node of value val before the first element of the linked list. After the insertion, the new node will be the first node of the linked list.\n",
    "        :type val: int\n",
    "        :rtype: None\n",
    "        \"\"\"\n",
    "        add_node = ListNode(val=val, next=self.head)\n",
    "        if self.head:\n",
    "            add_node.next = self.head\n",
    "            self.head = add_node\n",
    "        else:\n",
    "            self.head = add_node\n",
    "        print(self.head)\n",
    "        \n",
    "\n",
    "    def addAtTail(self, val):\n",
    "        \"\"\"\n",
    "        Append a node of value val to the last element of the linked list.\n",
    "        :type val: int\n",
    "        :rtype: None\n",
    "        \"\"\"\n",
    "        add_node = ListNode(val=val)\n",
    "        \n",
    "        if self.head is None:\n",
    "            self.head = add_node\n",
    "            print(self.head)\n",
    "            return\n",
    "        \n",
    "        last_node = self.head\n",
    "        while last_node.next is not None:            \n",
    "            last_node = last_node.next\n",
    "        last_node.next = add_node\n",
    "        print(self.head)\n",
    "        \n",
    "    def addAtIndex(self, index, val):\n",
    "        \"\"\"\n",
    "        Add a node of value val before the index-th node in the linked list. If index equals to the length of linked list, the node will be appended to the end of linked list. If index is greater than the length, the node will not be inserted.\n",
    "        :type index: int\n",
    "        :type val: int\n",
    "        :rtype: None\n",
    "        \"\"\"\n",
    "        if index == 0:\n",
    "            return addAtHead(val)\n",
    "        add_node = ListNode(val=val)\n",
    "        i = 0\n",
    "        pre_node = self.head\n",
    "        while i < index-1:\n",
    "            # if index is greater than length\n",
    "            if pre_node is None:\n",
    "                return\n",
    "            pre_node = pre_node.next\n",
    "            i += 1            \n",
    "        if pre_node is None:\n",
    "            return\n",
    "        add_node.next = pre_node.next\n",
    "        pre_node.next = add_node\n",
    "        print(\"addAtIndex(i={})={}\".format(index, self.head))\n",
    "\n",
    "    def deleteAtIndex(self, index):\n",
    "        \"\"\"\n",
    "        Delete the index-th node in the linked list, if the index is valid.\n",
    "        :type index: int\n",
    "        :rtype: None\n",
    "        \"\"\"\n",
    "        if index == 0:\n",
    "            self.head = self.head.next\n",
    "        else:\n",
    "            i = 0\n",
    "            pre_node = self.head\n",
    "            while i < index - 1:\n",
    "                if pre_node is None:\n",
    "                    return\n",
    "                pre_node = pre_node.next\n",
    "                i += 1\n",
    "            if pre_node is None:\n",
    "                return\n",
    "            del_node = pre_node.next\n",
    "            if del_node is None:\n",
    "                return\n",
    "            pre_node.next = del_node.next\n",
    "        print(self.head)\n",
    "        \n",
    "class Solution(object):\n",
    "    def swapPairs(self, head):\n",
    "        \"\"\"\n",
    "        :type head: ListNode\n",
    "        :rtype: ListNode\n",
    "        \"\"\"\n",
    "        first = head\n",
    "        second = first.next\n",
    "        if first is None or second is None:\n",
    "            return head\n",
    "        first.next = second.next\n",
    "        second.next = first\n",
    "        \n",
    "        head = second\n",
    "        last = first\n",
    "        first = first.next        \n",
    "        second = first.next\n",
    "        while first is not None and second is not None:\n",
    "            first.next = second.next\n",
    "            second.next = first\n",
    "            last.next = second\n",
    "            last = first\n",
    "            first = first.next if first else None\n",
    "            second = first.next if first else None\n",
    "            \n",
    "        return head\n",
    "    "
   ]
  },
  {
   "cell_type": "code",
   "execution_count": 23,
   "metadata": {},
   "outputs": [
    {
     "name": "stdout",
     "output_type": "stream",
     "text": [
      "[val=1, next=None]\n",
      "[val=2, next=[val=1, next=None]]\n",
      "[val=3, next=[val=2, next=[val=1, next=None]]]\n",
      "[val=4, next=[val=3, next=[val=2, next=[val=1, next=None]]]]\n"
     ]
    }
   ],
   "source": [
    "obj = MyLinkedList()\n",
    "obj.addAtHead(1)\n",
    "obj.addAtHead(2)\n",
    "obj.addAtHead(3)\n",
    "obj.addAtHead(4)"
   ]
  },
  {
   "cell_type": "code",
   "execution_count": 24,
   "metadata": {},
   "outputs": [
    {
     "name": "stdout",
     "output_type": "stream",
     "text": [
      "result=[val=3, next=[val=4, next=[val=1, next=[val=2, next=None]]]]\n"
     ]
    }
   ],
   "source": [
    "sol = Solution()\n",
    "swap_sol = sol.swapPairs(obj.head)\n",
    "print(\"result={}\".format(swap_sol))"
   ]
  },
  {
   "cell_type": "code",
   "execution_count": 25,
   "metadata": {},
   "outputs": [
    {
     "name": "stdout",
     "output_type": "stream",
     "text": [
      "[val=1, next=None]\n",
      "[val=2, next=[val=1, next=None]]\n",
      "[val=3, next=[val=2, next=[val=1, next=None]]]\n",
      "[val=4, next=[val=3, next=[val=2, next=[val=1, next=None]]]]\n",
      "[val=5, next=[val=4, next=[val=3, next=[val=2, next=[val=1, next=None]]]]]\n",
      "[val=4, next=[val=5, next=[val=2, next=[val=3, next=[val=1, next=None]]]]]\n"
     ]
    }
   ],
   "source": [
    "obj1 = MyLinkedList()\n",
    "obj1.addAtHead(1)\n",
    "obj1.addAtHead(2)\n",
    "obj1.addAtHead(3)\n",
    "obj1.addAtHead(4)\n",
    "obj1.addAtHead(5)\n",
    "sol1 = Solution()\n",
    "print(sol1.swapPairs(obj1.head))"
   ]
  },
  {
   "cell_type": "code",
   "execution_count": 26,
   "metadata": {},
   "outputs": [
    {
     "name": "stdout",
     "output_type": "stream",
     "text": [
      "[val=1, next=None]\n",
      "[val=1, next=None]\n"
     ]
    }
   ],
   "source": [
    "obj2 = MyLinkedList()\n",
    "obj2.addAtHead(1)\n",
    "sol2 = Solution()\n",
    "print(sol2.swapPairs(obj2.head))"
   ]
  },
  {
   "cell_type": "code",
   "execution_count": null,
   "metadata": {},
   "outputs": [],
   "source": []
  }
 ],
 "metadata": {
  "kernelspec": {
   "display_name": "Python 3",
   "language": "python",
   "name": "python3"
  },
  "language_info": {
   "codemirror_mode": {
    "name": "ipython",
    "version": 3
   },
   "file_extension": ".py",
   "mimetype": "text/x-python",
   "name": "python",
   "nbconvert_exporter": "python",
   "pygments_lexer": "ipython3",
   "version": "3.7.6"
  }
 },
 "nbformat": 4,
 "nbformat_minor": 4
}
