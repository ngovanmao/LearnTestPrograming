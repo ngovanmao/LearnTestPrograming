{
 "cells": [
  {
   "cell_type": "markdown",
   "metadata": {},
   "source": [
    "```\n",
    "Given a group of values, the entropy of the group is defined as the formula as following:\n",
    "\n",
    "\n",
    "\n",
    "where P(x) is the probability of appearance for the value x.\n",
    "\n",
    "The exercise is to calculate the entropy of a group. Here is one example.\n",
    "\n",
    "the input group:  [1, 1, 2, 2]\n",
    "\n",
    "the probability of value 1 is  2/4 = 1/2\n",
    "the probability of value 2 is  2/4 = 1/2\n",
    "\n",
    "As a result, its entropy can be obtained by:  - (1/2) * log2(1/2) - (1/2) * log2(1/2) = 1/2 + 1/2 = 1\n",
    "\n",
    "Note: the precision of result would remain within 1e-6.\n",
    "```"
   ]
  },
  {
   "cell_type": "code",
   "execution_count": 23,
   "metadata": {},
   "outputs": [],
   "source": [
    "from collections import Counter\n",
    "import math\n",
    "class Solution(object):\n",
    "    def calculateEntropy(self, input):\n",
    "        \"\"\"\n",
    "        :type input: List[int]\n",
    "        :rtype: float\n",
    "        \"\"\"\n",
    "        count = Counter(input)\n",
    "        total = sum(count.values())\n",
    "        probs = [c/total for c in count.values()]\n",
    "        entropy = 0\n",
    "        for p in probs:\n",
    "            entropy -= p*math.log(p,2.0)\n",
    "        return entropy\n",
    "        "
   ]
  },
  {
   "cell_type": "code",
   "execution_count": 24,
   "metadata": {},
   "outputs": [
    {
     "name": "stdout",
     "output_type": "stream",
     "text": [
      "Counter({1: 2, 2: 2})\n",
      "4\n",
      "[0.5, 0.5]\n"
     ]
    }
   ],
   "source": [
    "a = [1, 1, 2, 2]\n",
    "ac = Counter(a)\n",
    "print(ac)\n",
    "print(sum(ac.values()))\n",
    "total = sum(ac.values())\n",
    "prob = [i/total for i in ac.values()]\n",
    "print(prob)"
   ]
  },
  {
   "cell_type": "code",
   "execution_count": 25,
   "metadata": {},
   "outputs": [
    {
     "data": {
      "text/plain": [
       "1.0"
      ]
     },
     "execution_count": 25,
     "metadata": {},
     "output_type": "execute_result"
    }
   ],
   "source": [
    "obj = Solution()\n",
    "obj.calculateEntropy(a)"
   ]
  },
  {
   "cell_type": "code",
   "execution_count": 26,
   "metadata": {},
   "outputs": [
    {
     "data": {
      "text/plain": [
       "0"
      ]
     },
     "execution_count": 26,
     "metadata": {},
     "output_type": "execute_result"
    }
   ],
   "source": [
    "obj.calculateEntropy([])"
   ]
  },
  {
   "cell_type": "code",
   "execution_count": 27,
   "metadata": {},
   "outputs": [
    {
     "data": {
      "text/plain": [
       "1.5"
      ]
     },
     "execution_count": 27,
     "metadata": {},
     "output_type": "execute_result"
    }
   ],
   "source": [
    "obj.calculateEntropy([1,2,2,0])"
   ]
  },
  {
   "cell_type": "code",
   "execution_count": 28,
   "metadata": {},
   "outputs": [
    {
     "data": {
      "text/plain": [
       "0.0"
      ]
     },
     "execution_count": 28,
     "metadata": {},
     "output_type": "execute_result"
    }
   ],
   "source": [
    "obj.calculateEntropy([''])"
   ]
  },
  {
   "cell_type": "code",
   "execution_count": 34,
   "metadata": {},
   "outputs": [
    {
     "name": "stdout",
     "output_type": "stream",
     "text": [
      "[0, 1, 1, [1]]\n",
      "[1, 1, 2, [1, 2]]\n"
     ]
    }
   ],
   "source": [
    "t =[0,1,1,[1]]\n",
    "print(t)\n",
    "t[0]+=1\n",
    "t[1] = min(t[1], 2)\n",
    "t[2] = max(t[2], 2)\n",
    "t[3].append(2)\n",
    "print(t)"
   ]
  },
  {
   "cell_type": "code",
   "execution_count": 35,
   "metadata": {},
   "outputs": [
    {
     "data": {
      "text/plain": [
       "Counter({1: 2, 2: 2})"
      ]
     },
     "execution_count": 35,
     "metadata": {},
     "output_type": "execute_result"
    }
   ],
   "source": [
    "ac"
   ]
  },
  {
   "cell_type": "code",
   "execution_count": 37,
   "metadata": {},
   "outputs": [],
   "source": [
    "d = {\"a\":[5,0,9,[1,2,3,5,6]], \"b\":[7, 15,17,[15,15.5,15.6,15.7,15.8,16,17]],\n",
    "     \"c\":[8,11,12,[11,11.1,11.2,11.3,11.4,11.5,11.6,12]],\n",
    "    \"d\":[6, 19,21,[19,19.1,19.2,19.3,19.4,21]],\n",
    "    \"e\":[7,18,19,[18,18.1,18.2,18.3,18.4,18.5,19]]}"
   ]
  },
  {
   "cell_type": "code",
   "execution_count": 42,
   "metadata": {},
   "outputs": [],
   "source": [
    "sorted_d=dict(sorted(d.items(), key=lambda item: item[1][1]))"
   ]
  },
  {
   "cell_type": "code",
   "execution_count": 43,
   "metadata": {},
   "outputs": [
    {
     "name": "stdout",
     "output_type": "stream",
     "text": [
      "{'a': [5, 0, 9, [1, 2, 3, 5, 6]], 'c': [8, 11, 12, [11, 11.1, 11.2, 11.3, 11.4, 11.5, 11.6, 12]], 'b': [7, 15, 17, [15, 15.5, 15.6, 15.7, 15.8, 16, 17]], 'e': [7, 18, 19, [18, 18.1, 18.2, 18.3, 18.4, 18.5, 19]], 'd': [6, 19, 21, [19, 19.1, 19.2, 19.3, 19.4, 21]]}\n"
     ]
    }
   ],
   "source": [
    "print(sorted_d)"
   ]
  },
  {
   "cell_type": "code",
   "execution_count": 50,
   "metadata": {},
   "outputs": [
    {
     "data": {
      "text/plain": [
       "['a', 'c']"
      ]
     },
     "execution_count": 50,
     "metadata": {},
     "output_type": "execute_result"
    }
   ],
   "source": [
    "list(sorted_d.keys())[:2]"
   ]
  },
  {
   "cell_type": "code",
   "execution_count": 51,
   "metadata": {},
   "outputs": [
    {
     "data": {
      "text/plain": [
       "5"
      ]
     },
     "execution_count": 51,
     "metadata": {},
     "output_type": "execute_result"
    }
   ],
   "source": [
    "len(sorted_d)"
   ]
  },
  {
   "cell_type": "code",
   "execution_count": 52,
   "metadata": {},
   "outputs": [
    {
     "name": "stdout",
     "output_type": "stream",
     "text": [
      "[1, 2, 3, 5, 6]\n"
     ]
    }
   ],
   "source": [
    "G1 = []\n",
    "G1.extend(sorted_d[\"a\"][3])\n",
    "print(G1)"
   ]
  },
  {
   "cell_type": "code",
   "execution_count": 54,
   "metadata": {},
   "outputs": [],
   "source": [
    "from collections import Counter\n",
    "import math\n",
    "\n",
    "class Solution(object):\n",
    "    def calculateEntropy(self, input):\n",
    "        \"\"\"\n",
    "        :type input: List[int]\n",
    "        :rtype: float\n",
    "        \"\"\"\n",
    "        count = Counter(input)\n",
    "        total = sum(count.values())\n",
    "        probs = [float(c)/total for c in count.values()]\n",
    "        entropy = 0\n",
    "        for p in probs:\n",
    "            entropy -= p*math.log(p,2.0)\n",
    "        return entropy\n",
    "    \n",
    "    def calculateMaxInfoGain(self, petal_length, species):\n",
    "        \"\"\"\n",
    "        :type petal_length: List[float]\n",
    "        :type species: List[str]\n",
    "        :rtype: float\n",
    "        \"\"\"\n",
    "        # original entropy:\n",
    "        H = self.calculateEntropy(petal_length)\n",
    "        total = len(petal_length)\n",
    "        print(\"H={}\".format(H))\n",
    "        stats = {}        \n",
    "        for i, spec in enumerate(species):\n",
    "            if spec not in stats:\n",
    "                # len, min, list[petal_length]\n",
    "                stats[spec] = [1., petal_length[i], [petal_length[i]]]\n",
    "            else:\n",
    "                stats[spec][0] += 1. \n",
    "                stats[spec][1] = min(stats[spec][1], petal_length[i])\n",
    "                stats[spec][2].append(petal_length[i])\n",
    "        \n",
    "        # split groups into two group similar in size\n",
    "        sorted_stats = dict(sorted(stats.items(), key=lambda item: item[1][1])) # sort via min\n",
    "        print(sorted_stats)        \n",
    "        max_gain = 0\n",
    "        for i in range(1, len(sorted_stats)):\n",
    "            keys1 = list(sorted_stats.keys())[:i]\n",
    "            keys2 = list(sorted_stats.keys())[i:]\n",
    "            total_1 = 0.\n",
    "            total_2 = 0.\n",
    "            G1 = []\n",
    "            G2 = []    \n",
    "            for k in keys1:\n",
    "                total_1 += sorted_stats[k][0]\n",
    "                G1.extend(sorted_stats[k][2])\n",
    "            for k in keys2:\n",
    "                total_2 += sorted_stats[k][0]\n",
    "                G2.extend(sorted_stats[k][2])\n",
    "            H1 = self.calculateEntropy(G1)\n",
    "            H2 = self.calculateEntropy(G2)            \n",
    "            gain = H - (total_1/total) * H1 - (total_2/total) * H2\n",
    "            print(\"i={} H1={}, H2={}, gain={}\".format(i, H1, H2, gain))\n",
    "            if gain > max_gain:\n",
    "                max_gain = gain\n",
    "        return max_gain\n",
    "        "
   ]
  },
  {
   "cell_type": "code",
   "execution_count": 63,
   "metadata": {},
   "outputs": [],
   "source": [
    "from collections import Counter\n",
    "import math\n",
    "\n",
    "class Solution(object):\n",
    "    def calculateEntropy(self, input):\n",
    "        \"\"\"\n",
    "        :type input: List[int]\n",
    "        :rtype: float\n",
    "        \"\"\"\n",
    "        count = Counter(input)\n",
    "        total = sum(count.values())\n",
    "        probs = [float(c)/total for c in count.values()]\n",
    "        entropy = 0\n",
    "        for p in probs:\n",
    "            entropy -= p*math.log(p,2.0)\n",
    "        return entropy\n",
    "    \n",
    "    def calculateMaxInfoGain(self, petal_length, species):\n",
    "        \"\"\"\n",
    "        :type petal_length: List[float]\n",
    "        :type species: List[str]\n",
    "        :rtype: float\n",
    "        \"\"\"\n",
    "        # original entropy:\n",
    "        H = self.calculateEntropy(species)\n",
    "        total = len(species)\n",
    "        data = [[s, l] for s, l in zip(species, petal_length)]\n",
    "        sorted_data = sorted(data, key=lambda item: item[1])\n",
    "        print(data, sorted_data)\n",
    "        splits=[]\n",
    "        cur_species = sorted_data[0][0]\n",
    "        for i, d in enumerate(sorted_data):            \n",
    "            if cur_species != d[0]:\n",
    "                splits.append(i)\n",
    "                cur_species = d[0]\n",
    "        \n",
    "        \n",
    "        max_gain = 0\n",
    "        print(splits)\n",
    "        for split in splits:\n",
    "            G1, G2 = [], []\n",
    "            total_1, total_2 = 0, 0\n",
    "            for i, d in enumerate(sorted_data):\n",
    "                if i < split:\n",
    "                    G1.append(d[0])\n",
    "                    total_1 += 1\n",
    "                else:\n",
    "                    G2.append(d[0])\n",
    "                    total_2 += 1   \n",
    "                \n",
    "            H1 = self.calculateEntropy(G1)\n",
    "            H2 = self.calculateEntropy(G2)            \n",
    "            gain = H - (float(total_1)/total) * H1 - (float(total_2)/total) * H2\n",
    "            print(\"i={} H1={}, H2={}, gain={}\".format(i, H1, H2, gain))\n",
    "            if gain > max_gain:\n",
    "                max_gain = gain\n",
    "        return max_gain\n",
    "        "
   ]
  },
  {
   "cell_type": "code",
   "execution_count": 64,
   "metadata": {},
   "outputs": [],
   "source": [
    "obj = Solution()\n",
    "def test(petal_length, species, exp_result):\n",
    "    max_gain = obj.calculateMaxInfoGain(petal_length, species)\n",
    "    print(max_gain)\n",
    "    assert max_gain == exp_result"
   ]
  },
  {
   "cell_type": "code",
   "execution_count": 65,
   "metadata": {},
   "outputs": [
    {
     "name": "stdout",
     "output_type": "stream",
     "text": [
      "[['versicolor', 1], ['versicolor', 2], ['setosa', 3], ['virginica', 4], ['virginica', 5], ['versicolor', 6], ['versicolor', 7], ['setosa', 8], ['versicolor', 9], ['versicolor', 10]] [['versicolor', 1], ['versicolor', 2], ['setosa', 3], ['virginica', 4], ['virginica', 5], ['versicolor', 6], ['versicolor', 7], ['setosa', 8], ['versicolor', 9], ['versicolor', 10]]\n",
      "[2, 3, 5, 7, 8]\n",
      "i=9 H1=0.0, H2=1.5, gain=0.17095059445466854\n",
      "i=9 H1=0.9182958340544896, H2=1.3787834934861756, gain=0.13031339879799908\n",
      "i=9 H1=1.5219280948873621, H2=0.7219280948873623, gain=0.2490224995673065\n",
      "i=9 H1=1.3787834934861758, H2=0.9182958340544896, gain=0.13031339879799891\n",
      "i=9 H1=1.5, H2=0.0, gain=0.17095059445466854\n",
      "0.2490224995673065\n"
     ]
    },
    {
     "ename": "AssertionError",
     "evalue": "",
     "output_type": "error",
     "traceback": [
      "\u001b[0;31m---------------------------------------------------------------------------\u001b[0m",
      "\u001b[0;31mAssertionError\u001b[0m                            Traceback (most recent call last)",
      "\u001b[0;32m<ipython-input-65-24eb54aa5e44>\u001b[0m in \u001b[0;36m<module>\u001b[0;34m\u001b[0m\n\u001b[1;32m      2\u001b[0m \u001b[0mspecies\u001b[0m \u001b[0;34m=\u001b[0m \u001b[0;34m[\u001b[0m\u001b[0;34m\"versicolor\"\u001b[0m\u001b[0;34m,\u001b[0m\u001b[0;34m\"versicolor\"\u001b[0m\u001b[0;34m,\u001b[0m\u001b[0;34m\"setosa\"\u001b[0m\u001b[0;34m,\u001b[0m\u001b[0;34m\"virginica\"\u001b[0m\u001b[0;34m,\u001b[0m\u001b[0;34m\"virginica\"\u001b[0m\u001b[0;34m,\u001b[0m\u001b[0;34m\"versicolor\"\u001b[0m\u001b[0;34m,\u001b[0m\u001b[0;34m\"versicolor\"\u001b[0m\u001b[0;34m,\u001b[0m\u001b[0;34m\"setosa\"\u001b[0m\u001b[0;34m,\u001b[0m\u001b[0;34m\"versicolor\"\u001b[0m\u001b[0;34m,\u001b[0m\u001b[0;34m\"versicolor\"\u001b[0m\u001b[0;34m]\u001b[0m\u001b[0;34m\u001b[0m\u001b[0;34m\u001b[0m\u001b[0m\n\u001b[1;32m      3\u001b[0m \u001b[0mexp_result\u001b[0m \u001b[0;34m=\u001b[0m \u001b[0;36m0.24902\u001b[0m\u001b[0;34m\u001b[0m\u001b[0;34m\u001b[0m\u001b[0m\n\u001b[0;32m----> 4\u001b[0;31m \u001b[0mtest\u001b[0m\u001b[0;34m(\u001b[0m\u001b[0mpetal_length\u001b[0m\u001b[0;34m,\u001b[0m \u001b[0mspecies\u001b[0m\u001b[0;34m,\u001b[0m \u001b[0mexp_result\u001b[0m\u001b[0;34m)\u001b[0m\u001b[0;34m\u001b[0m\u001b[0;34m\u001b[0m\u001b[0m\n\u001b[0m",
      "\u001b[0;32m<ipython-input-64-8d1e792605bd>\u001b[0m in \u001b[0;36mtest\u001b[0;34m(petal_length, species, exp_result)\u001b[0m\n\u001b[1;32m      3\u001b[0m     \u001b[0mmax_gain\u001b[0m \u001b[0;34m=\u001b[0m \u001b[0mobj\u001b[0m\u001b[0;34m.\u001b[0m\u001b[0mcalculateMaxInfoGain\u001b[0m\u001b[0;34m(\u001b[0m\u001b[0mpetal_length\u001b[0m\u001b[0;34m,\u001b[0m \u001b[0mspecies\u001b[0m\u001b[0;34m)\u001b[0m\u001b[0;34m\u001b[0m\u001b[0;34m\u001b[0m\u001b[0m\n\u001b[1;32m      4\u001b[0m     \u001b[0mprint\u001b[0m\u001b[0;34m(\u001b[0m\u001b[0mmax_gain\u001b[0m\u001b[0;34m)\u001b[0m\u001b[0;34m\u001b[0m\u001b[0;34m\u001b[0m\u001b[0m\n\u001b[0;32m----> 5\u001b[0;31m     \u001b[0;32massert\u001b[0m \u001b[0mmax_gain\u001b[0m \u001b[0;34m==\u001b[0m \u001b[0mexp_result\u001b[0m\u001b[0;34m\u001b[0m\u001b[0;34m\u001b[0m\u001b[0m\n\u001b[0m",
      "\u001b[0;31mAssertionError\u001b[0m: "
     ]
    }
   ],
   "source": [
    "petal_length=[1,2,3,4,5,6,7,8,9,10]\n",
    "species = [\"versicolor\",\"versicolor\",\"setosa\",\"virginica\",\"virginica\",\"versicolor\",\"versicolor\",\"setosa\",\"versicolor\",\"versicolor\"]\n",
    "exp_result = 0.24902\n",
    "test(petal_length, species, exp_result)"
   ]
  },
  {
   "cell_type": "code",
   "execution_count": null,
   "metadata": {},
   "outputs": [],
   "source": []
  }
 ],
 "metadata": {
  "kernelspec": {
   "display_name": "Python 3",
   "language": "python",
   "name": "python3"
  },
  "language_info": {
   "codemirror_mode": {
    "name": "ipython",
    "version": 3
   },
   "file_extension": ".py",
   "mimetype": "text/x-python",
   "name": "python",
   "nbconvert_exporter": "python",
   "pygments_lexer": "ipython3",
   "version": "3.6.9"
  }
 },
 "nbformat": 4,
 "nbformat_minor": 4
}
