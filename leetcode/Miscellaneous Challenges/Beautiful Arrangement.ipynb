{
 "cells": [
  {
   "cell_type": "markdown",
   "metadata": {},
   "source": [
    "**Beautiful Arrangement**\n",
    "\n",
    "Suppose you have n integers from 1 to n. We define a beautiful arrangement as an array that is constructed by these n numbers successfully if one of the following is true for the ith position (1 <= i <= n) in this array:\n",
    "\n",
    "The number at the ith position is divisible by i.\n",
    "i is divisible by the number at the ith position.\n",
    "Given an integer n, return the number of the beautiful arrangements that you can construct.\n",
    "\n",
    " \n",
    "\n",
    "Example 1:\n",
    "\n",
    "Input: n = 2\n",
    "Output: 2\n",
    "Explanation: \n",
    "The first beautiful arrangement is [1, 2]:\n",
    "Number at the 1st position (i=1) is 1, and 1 is divisible by i (i=1).\n",
    "Number at the 2nd position (i=2) is 2, and 2 is divisible by i (i=2).\n",
    "The second beautiful arrangement is [2, 1]:\n",
    "Number at the 1st position (i=1) is 2, and 2 is divisible by i (i=1).\n",
    "Number at the 2nd position (i=2) is 1, and i (i=2) is divisible by 1.\n",
    "Example 2:\n",
    "\n",
    "Input: n = 1\n",
    "Output: 1\n",
    " \n",
    "\n",
    "Constraints:\n",
    "\n",
    "1 <= n <= 15"
   ]
  },
  {
   "cell_type": "code",
   "execution_count": 1,
   "metadata": {},
   "outputs": [],
   "source": []
  },
  {
   "cell_type": "code",
   "execution_count": 43,
   "metadata": {},
   "outputs": [],
   "source": [
    "class Solution(object):\n",
    "    def countArrangement(self, n):\n",
    "        \"\"\"\n",
    "        :type n: int\n",
    "        :rtype: int\n",
    "        \"\"\"\n",
    "        arr = [1]*(n+1)\n",
    "        # ignore arr[0] = 1\n",
    "        arr[1] = n\n",
    "        intersects = [[] for i in range(n+1)]\n",
    "        for i in range(2, n+1):\n",
    "            j = 2\n",
    "            while i*j <= n:\n",
    "                arr[i] += 1\n",
    "                if i not in intersects[i*j]:\n",
    "                    intersects[i*j].append(i)\n",
    "                              \n",
    "                j += 1\n",
    "        not_divisible = 0\n",
    "        print(intersects)\n",
    "        for intersect in intersects:\n",
    "            if len(intersect) > 1:\n",
    "                for i, num in enumerate(intersect):\n",
    "                    for j in range(i+1, len(intersect)):\n",
    "                        \n",
    "                        if intersect[j] % num != 0:\n",
    "                            not_divisible += 1\n",
    "                        print(\"intersect[{}]={}, num={}, not_divisible={}\".format(j, intersect[j], num, not_divisible))\n",
    "        \n",
    "        count = 1\n",
    "        for a in arr:\n",
    "            count *= a\n",
    "        count2 = count - not_divisible\n",
    "        print(\"count={}, not_divisible={}\".format(count, not_divisible))\n",
    "        \n",
    "        return count2"
   ]
  },
  {
   "cell_type": "code",
   "execution_count": 88,
   "metadata": {},
   "outputs": [],
   "source": [
    "class Solution(object):\n",
    "    def countArrangement(self, n):\n",
    "        \"\"\"\n",
    "        :type n: int\n",
    "        :rtype: int\n",
    "        \"\"\"\n",
    "        global count\n",
    "        count = 0\n",
    "        def permutate(nums, k):\n",
    "            global count\n",
    "            if k == len(nums):\n",
    "                count += 1\n",
    "            for i in range(k, len(nums)):                \n",
    "                nums = swap(nums, k, i )\n",
    "                #print(\"k={} i={}, nums={}\".format(k, i, nums))\n",
    "                if nums[k]%(k+1)==0 or (k+1)%nums[k]==0:\n",
    "                    permutate(nums, k+1)\n",
    "                nums = swap(nums, i, k)              \n",
    "                \n",
    "        def swap(nums, k, i):\n",
    "            temp = nums[k]\n",
    "            nums[k] = nums[i]\n",
    "            nums[i] = temp\n",
    "            return nums\n",
    "        nums = []\n",
    "        \n",
    "        for i in range(n):\n",
    "            nums.append(i+1)\n",
    "        permutate(nums, 0)\n",
    "        return count\n",
    "        \n",
    "    "
   ]
  },
  {
   "cell_type": "code",
   "execution_count": 89,
   "metadata": {},
   "outputs": [
    {
     "data": {
      "text/plain": [
       "41"
      ]
     },
     "execution_count": 89,
     "metadata": {},
     "output_type": "execute_result"
    }
   ],
   "source": [
    "obj = Solution()\n",
    "obj.countArrangement(7)"
   ]
  },
  {
   "cell_type": "code",
   "execution_count": 61,
   "metadata": {},
   "outputs": [
    {
     "data": {
      "text/plain": [
       "0"
      ]
     },
     "execution_count": 61,
     "metadata": {},
     "output_type": "execute_result"
    }
   ],
   "source": [
    "obj.countArrangement(3)"
   ]
  },
  {
   "cell_type": "code",
   "execution_count": 62,
   "metadata": {},
   "outputs": [
    {
     "data": {
      "text/plain": [
       "0"
      ]
     },
     "execution_count": 62,
     "metadata": {},
     "output_type": "execute_result"
    }
   ],
   "source": [
    "obj.countArrangement(4)"
   ]
  },
  {
   "cell_type": "code",
   "execution_count": 37,
   "metadata": {},
   "outputs": [
    {
     "name": "stdout",
     "output_type": "stream",
     "text": [
      "[[], [], [], [], [2], []]\n",
      "count=10, not_divisible=0\n"
     ]
    },
    {
     "data": {
      "text/plain": [
       "10"
      ]
     },
     "execution_count": 37,
     "metadata": {},
     "output_type": "execute_result"
    }
   ],
   "source": [
    "obj.countArrangement(5)"
   ]
  },
  {
   "cell_type": "code",
   "execution_count": 27,
   "metadata": {},
   "outputs": [
    {
     "name": "stdout",
     "output_type": "stream",
     "text": [
      "[{2, 3}, set(), set()]\n"
     ]
    }
   ],
   "source": [
    "s = [set() for i in range(3)]\n",
    "s[0].add(3)\n",
    "s[0].add(2)\n",
    "print(s)"
   ]
  },
  {
   "cell_type": "code",
   "execution_count": 38,
   "metadata": {},
   "outputs": [
    {
     "name": "stdout",
     "output_type": "stream",
     "text": [
      "[[], [], [], [], [2], [], [2, 3]]\n",
      "count=36, not_divisible=1\n"
     ]
    },
    {
     "data": {
      "text/plain": [
       "35"
      ]
     },
     "execution_count": 38,
     "metadata": {},
     "output_type": "execute_result"
    }
   ],
   "source": [
    "obj.countArrangement(6)"
   ]
  },
  {
   "cell_type": "code",
   "execution_count": 45,
   "metadata": {},
   "outputs": [
    {
     "name": "stdout",
     "output_type": "stream",
     "text": [
      "[[], [], [], [], [2], [], [2, 3], [], [2, 4], [3], [2, 5], [], [2, 3, 4, 6], []]\n",
      "intersect[1]=3, num=2, not_divisible=1\n",
      "intersect[1]=4, num=2, not_divisible=1\n",
      "intersect[1]=5, num=2, not_divisible=2\n",
      "intersect[1]=3, num=2, not_divisible=3\n",
      "intersect[2]=4, num=2, not_divisible=3\n",
      "intersect[3]=6, num=2, not_divisible=3\n",
      "intersect[2]=4, num=3, not_divisible=4\n",
      "intersect[3]=6, num=3, not_divisible=4\n",
      "intersect[3]=6, num=4, not_divisible=5\n",
      "count=3744, not_divisible=5\n"
     ]
    },
    {
     "data": {
      "text/plain": [
       "3739"
      ]
     },
     "execution_count": 45,
     "metadata": {},
     "output_type": "execute_result"
    }
   ],
   "source": [
    "obj.countArrangement(13)"
   ]
  },
  {
   "cell_type": "code",
   "execution_count": null,
   "metadata": {},
   "outputs": [],
   "source": []
  }
 ],
 "metadata": {
  "kernelspec": {
   "display_name": "Python 3",
   "language": "python",
   "name": "python3"
  },
  "language_info": {
   "codemirror_mode": {
    "name": "ipython",
    "version": 3
   },
   "file_extension": ".py",
   "mimetype": "text/x-python",
   "name": "python",
   "nbconvert_exporter": "python",
   "pygments_lexer": "ipython3",
   "version": "3.7.6"
  }
 },
 "nbformat": 4,
 "nbformat_minor": 4
}
